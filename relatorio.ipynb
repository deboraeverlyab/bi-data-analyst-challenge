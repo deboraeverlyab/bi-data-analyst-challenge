{
  "nbformat": 4,
  "nbformat_minor": 0,
  "metadata": {
    "colab": {
      "provenance": [],
      "authorship_tag": "ABX9TyMCmqZFGdFoj8T11mE1l6yP",
      "include_colab_link": true
    },
    "kernelspec": {
      "name": "python3",
      "display_name": "Python 3"
    },
    "language_info": {
      "name": "python"
    }
  },
  "cells": [
    {
      "cell_type": "markdown",
      "metadata": {
        "id": "view-in-github",
        "colab_type": "text"
      },
      "source": [
        "<a href=\"https://colab.research.google.com/github/deboraeverlyab/bi-data-analyst-challenge/blob/main/relatorio.ipynb\" target=\"_parent\"><img src=\"https://colab.research.google.com/assets/colab-badge.svg\" alt=\"Open In Colab\"/></a>"
      ]
    },
    {
      "cell_type": "markdown",
      "source": [
        "# Relatório Teste Analista de BI/Dados"
      ],
      "metadata": {
        "id": "rKV5UIJHrazC"
      }
    },
    {
      "cell_type": "markdown",
      "source": [
        "Relatório dividio em 4 partes:\n",
        "1. Preparação de dados\n",
        "2. SQL para análises\n",
        "3. Capacidade Analítica\n",
        "4. Integrações"
      ],
      "metadata": {
        "id": "QdFw0I5orgZt"
      }
    },
    {
      "cell_type": "markdown",
      "source": [
        "## PARTE 1 - Projeto: Preparação de Dados do Google Sheets\n",
        "\n",
        "Esta parte tem como objetivo realizar a extração, limpeza e exportação de dados provenientes de uma planilha do Google Sheets.\n",
        "\n",
        "Os principais passos realizados são:\n",
        "\n",
        "1. Autenticação com a conta do Google e acesso à planilha via API do Google Sheets.\n",
        "2. Extração dos dados em formato bruto, onde cada linha da planilha contém todos os campos agrupados em uma única célula separada por `;`.\n",
        "3. Processamento e reorganização dos dados para estrutura tabular, com validação da consistência das colunas.\n",
        "4. Tratamento dos dados, incluindo:\n",
        "   - Conversão de colunas de **data**, tanto em formato serial (Excel) quanto textual.\n",
        "   - Conversão de colunas numéricas:\n",
        "     - **Números inteiros** (como \"impressões\" e \"cliques\").\n",
        "     - **Números decimais** com separador `,` (como \"valor gasto\" e \"leads\").\n",
        "5. Exportação dos dados tratados para um arquivo `.csv`, pronto para uso em análises/dashboards.\n",
        "6. Envio dos dados tratados de volta para o Google Sheets, criando uma aba separada chamada \"Dados Tratados\" dentro da mesma planilha original.\n",
        "\n",
        "O fluxo foi desenvolvido para lidar com planilhas que armazenam os dados no estilo \"CSV em célula\", exigindo um pré-processamento manual linha a linha."
      ],
      "metadata": {
        "id": "gaiL_Mb_dxgS"
      }
    },
    {
      "cell_type": "markdown",
      "source": [
        "Planilha usada: https://docs.google.com/spreadsheets/d/1YytDjZsIXBTg0ceoXoKq9C8-BMPNOKopZbywCuZSzRY/edit?usp=sharing"
      ],
      "metadata": {
        "id": "xChBoqbcjtjN"
      }
    },
    {
      "cell_type": "markdown",
      "source": [
        "1. Instalação e importação de bibliotecas"
      ],
      "metadata": {
        "id": "M8r8ArIKd6uq"
      }
    },
    {
      "cell_type": "code",
      "source": [
        "# Instala a biblioteca para acesso ao Google Sheets\n",
        "!pip install gspread\n",
        "\n",
        "# Bibliotecas para manipulação de dados e autenticação com o Google\n",
        "import pandas as pd\n",
        "from google.colab import auth\n",
        "import gspread\n",
        "from google.auth import default\n",
        "from gspread_dataframe import set_with_dataframe"
      ],
      "metadata": {
        "colab": {
          "base_uri": "https://localhost:8080/"
        },
        "id": "-98j5rxmcsAq",
        "outputId": "1749501a-c60b-41bf-ba62-7117f01ccb8b"
      },
      "execution_count": 46,
      "outputs": [
        {
          "output_type": "stream",
          "name": "stdout",
          "text": [
            "Requirement already satisfied: gspread in /usr/local/lib/python3.11/dist-packages (6.2.1)\n",
            "Requirement already satisfied: google-auth>=1.12.0 in /usr/local/lib/python3.11/dist-packages (from gspread) (2.38.0)\n",
            "Requirement already satisfied: google-auth-oauthlib>=0.4.1 in /usr/local/lib/python3.11/dist-packages (from gspread) (1.2.2)\n",
            "Requirement already satisfied: cachetools<6.0,>=2.0.0 in /usr/local/lib/python3.11/dist-packages (from google-auth>=1.12.0->gspread) (5.5.2)\n",
            "Requirement already satisfied: pyasn1-modules>=0.2.1 in /usr/local/lib/python3.11/dist-packages (from google-auth>=1.12.0->gspread) (0.4.2)\n",
            "Requirement already satisfied: rsa<5,>=3.1.4 in /usr/local/lib/python3.11/dist-packages (from google-auth>=1.12.0->gspread) (4.9.1)\n",
            "Requirement already satisfied: requests-oauthlib>=0.7.0 in /usr/local/lib/python3.11/dist-packages (from google-auth-oauthlib>=0.4.1->gspread) (2.0.0)\n",
            "Requirement already satisfied: pyasn1<0.7.0,>=0.6.1 in /usr/local/lib/python3.11/dist-packages (from pyasn1-modules>=0.2.1->google-auth>=1.12.0->gspread) (0.6.1)\n",
            "Requirement already satisfied: oauthlib>=3.0.0 in /usr/local/lib/python3.11/dist-packages (from requests-oauthlib>=0.7.0->google-auth-oauthlib>=0.4.1->gspread) (3.3.1)\n",
            "Requirement already satisfied: requests>=2.0.0 in /usr/local/lib/python3.11/dist-packages (from requests-oauthlib>=0.7.0->google-auth-oauthlib>=0.4.1->gspread) (2.32.3)\n",
            "Requirement already satisfied: charset-normalizer<4,>=2 in /usr/local/lib/python3.11/dist-packages (from requests>=2.0.0->requests-oauthlib>=0.7.0->google-auth-oauthlib>=0.4.1->gspread) (3.4.2)\n",
            "Requirement already satisfied: idna<4,>=2.5 in /usr/local/lib/python3.11/dist-packages (from requests>=2.0.0->requests-oauthlib>=0.7.0->google-auth-oauthlib>=0.4.1->gspread) (3.10)\n",
            "Requirement already satisfied: urllib3<3,>=1.21.1 in /usr/local/lib/python3.11/dist-packages (from requests>=2.0.0->requests-oauthlib>=0.7.0->google-auth-oauthlib>=0.4.1->gspread) (2.4.0)\n",
            "Requirement already satisfied: certifi>=2017.4.17 in /usr/local/lib/python3.11/dist-packages (from requests>=2.0.0->requests-oauthlib>=0.7.0->google-auth-oauthlib>=0.4.1->gspread) (2025.7.14)\n"
          ]
        }
      ]
    },
    {
      "cell_type": "markdown",
      "source": [
        "2. Autenticação com a conta do Google"
      ],
      "metadata": {
        "id": "A-pelZcIf3YU"
      }
    },
    {
      "cell_type": "code",
      "source": [
        "# Autenticando no ambiente do Google Colab com sua conta\n",
        "auth.authenticate_user()\n",
        "\n",
        "# Obtém as credenciais da conta conectada\n",
        "creds, _ = default()\n",
        "\n",
        "# Autoriza o acesso à API do Google Sheets com as credenciais\n",
        "gc = gspread.authorize(creds)"
      ],
      "metadata": {
        "id": "v4QfoUBdeGt_"
      },
      "execution_count": 47,
      "outputs": []
    },
    {
      "cell_type": "markdown",
      "source": [
        "3. Acessar a planilha do Google Sheets"
      ],
      "metadata": {
        "id": "9wDaKT9Yf8UZ"
      }
    },
    {
      "cell_type": "code",
      "source": [
        "# ID da planilha\n",
        "spreadsheet_id = '1YytDjZsIXBTg0ceoXoKq9C8-BMPNOKopZbywCuZSzRY'\n",
        "\n",
        "# Acessa a primeira aba da planilha\n",
        "try:\n",
        "    worksheet = gc.open_by_key(spreadsheet_id).sheet1\n",
        "except Exception as e:\n",
        "    print(f\"Erro ao abrir a planilha: {e}\")"
      ],
      "metadata": {
        "id": "khFufTUwdBj3"
      },
      "execution_count": 48,
      "outputs": []
    },
    {
      "cell_type": "markdown",
      "source": [
        "4. Obter dados da planilha"
      ],
      "metadata": {
        "id": "P5QHSbYYgh1p"
      }
    },
    {
      "cell_type": "code",
      "source": [
        "# Pega todos os valores da planilha\n",
        "raw_data = worksheet.get_all_values()"
      ],
      "metadata": {
        "id": "mcW3cTUCdDHj"
      },
      "execution_count": 49,
      "outputs": []
    },
    {
      "cell_type": "markdown",
      "source": [
        "5. Separar cabeçalho e preparar os dados"
      ],
      "metadata": {
        "id": "sD8bb8wPgxai"
      }
    },
    {
      "cell_type": "markdown",
      "source": [
        "Esse trecho limpa e organiza cada linha dos dados brutos vindos do Google Sheets, porque os dados foram colados ou exportados para a planilha com tudo junto em uma única célula, ou seja, cada linha da planilha tem todos os campos concatenados em uma única string, separados por ;."
      ],
      "metadata": {
        "id": "d7GMVPwRikpe"
      }
    },
    {
      "cell_type": "code",
      "source": [
        "# Pega o cabeçalho (em formato de string única)\n",
        "header_string = raw_data[0][0]\n",
        "header = header_string.split(';')\n",
        "\n",
        "header"
      ],
      "metadata": {
        "colab": {
          "base_uri": "https://localhost:8080/"
        },
        "id": "Kpe2UWiydd5Q",
        "outputId": "62fef0b4-9a5e-4c67-c99a-35464f04f350"
      },
      "execution_count": 50,
      "outputs": [
        {
          "output_type": "execute_result",
          "data": {
            "text/plain": [
              "['canal',\n",
              " 'campanha',\n",
              " 'grupo de anúncio',\n",
              " 'data',\n",
              " 'impressões',\n",
              " 'cliques',\n",
              " 'leads',\n",
              " 'valor gasto']"
            ]
          },
          "metadata": {},
          "execution_count": 50
        }
      ]
    },
    {
      "cell_type": "code",
      "source": [
        "# Inicializa uma lista para armazenar os dados tratados\n",
        "processed_data = []\n",
        "\n",
        "# Processa as linhas (excluindo o cabeçalho)\n",
        "for row in raw_data[1:]:\n",
        "    if row and row[0]:\n",
        "        row_string = row[0].strip()\n",
        "        if row_string.startswith('\"') and row_string.endswith('\"'):\n",
        "            row_string = row_string[1:-1]\n",
        "        parts = row_string.split(';')\n",
        "        if len(parts) == len(header):\n",
        "            processed_data.append(parts)\n",
        "        else:\n",
        "            print(f\"Aviso: Linha com colunas inconsistentes: {row_string}\")\n",
        "    else:\n",
        "        print(f\"Aviso: Linha vazia ou mal formatada: {row}\")\n",
        "\n",
        "# Imprime apenas as 3 primeiras linhas processadas\n",
        "for linha in processed_data[:3]:\n",
        "    print(linha)"
      ],
      "metadata": {
        "colab": {
          "base_uri": "https://localhost:8080/"
        },
        "id": "tN_KO_Sygz6o",
        "outputId": "3657ee27-28ab-4296-e10a-426b6b1b7056"
      },
      "execution_count": 51,
      "outputs": [
        {
          "output_type": "stream",
          "name": "stdout",
          "text": [
            "['facebook', 'atr_leads | Genérica  + Geral Promo [CBO]', 'LAL 1% COMPRADORES', '45473', '1899', '10', '1', '48,3']\n",
            "['facebook', 'atr_leads | avalie o seu usado [CBO] 2', 'LAL 1% COMPRADORES — AJUSTADO', '45473', '3687', '38', '4', '60,47']\n",
            "['facebook', 'atr_leads | promo - creta [CBO] 2', 'RMKT', '45473', '1080', '7', '3', '32,62']\n"
          ]
        }
      ]
    },
    {
      "cell_type": "markdown",
      "source": [
        "6. Criar o DataFrame com os dados tratados"
      ],
      "metadata": {
        "id": "Na-MJg3AhRZN"
      }
    },
    {
      "cell_type": "code",
      "source": [
        "df = pd.DataFrame(processed_data, columns=header)\n",
        "\n",
        "df"
      ],
      "metadata": {
        "colab": {
          "base_uri": "https://localhost:8080/",
          "height": 424
        },
        "id": "btcGveM2hETU",
        "outputId": "0eda5176-e9e6-4343-dc71-079b5fe4bdcd"
      },
      "execution_count": 52,
      "outputs": [
        {
          "output_type": "execute_result",
          "data": {
            "text/plain": [
              "        canal                                   campanha  \\\n",
              "0    facebook  atr_leads | Genérica  + Geral Promo [CBO]   \n",
              "1    facebook     atr_leads | avalie o seu usado [CBO] 2   \n",
              "2    facebook          atr_leads | promo - creta [CBO] 2   \n",
              "3    facebook           atr_leads | promo - hb20 (CBO) 2   \n",
              "4    facebook           atr_leads | promo - hb20 (CBO) 2   \n",
              "..        ...                                        ...   \n",
              "862    google                      atr_search | Blumenau   \n",
              "863    google                atr_search | Jaraguá do Sul   \n",
              "864    google                     atr_search | Joinville   \n",
              "865    google                         atr_search | marca   \n",
              "866    google                  atr_search | Ponta Grossa   \n",
              "\n",
              "                  grupo de anúncio   data impressões cliques leads valor gasto  \n",
              "0               LAL 1% COMPRADORES  45473       1899      10     1        48,3  \n",
              "1    LAL 1% COMPRADORES — AJUSTADO  45473       3687      38     4       60,47  \n",
              "2                             RMKT  45473       1080       7     3       32,62  \n",
              "3               LAL Compradores 1%  45473       1059       3     1       13,96  \n",
              "4                             RMKT  45473        768       5             16,77  \n",
              "..                             ...    ...        ...     ...   ...         ...  \n",
              "862                           HB20  45535         88      14     3       19,78  \n",
              "863                           HB20  45535        129      10     3       20,71  \n",
              "864                           HB20  45535        145       9     1       17,64  \n",
              "865                           HB20  45535        339      29     1       25,65  \n",
              "866                           HB20  45535        263      15     2       20,14  \n",
              "\n",
              "[867 rows x 8 columns]"
            ],
            "text/html": [
              "\n",
              "  <div id=\"df-b6cef4d2-9654-4277-8a24-5913049e4a40\" class=\"colab-df-container\">\n",
              "    <div>\n",
              "<style scoped>\n",
              "    .dataframe tbody tr th:only-of-type {\n",
              "        vertical-align: middle;\n",
              "    }\n",
              "\n",
              "    .dataframe tbody tr th {\n",
              "        vertical-align: top;\n",
              "    }\n",
              "\n",
              "    .dataframe thead th {\n",
              "        text-align: right;\n",
              "    }\n",
              "</style>\n",
              "<table border=\"1\" class=\"dataframe\">\n",
              "  <thead>\n",
              "    <tr style=\"text-align: right;\">\n",
              "      <th></th>\n",
              "      <th>canal</th>\n",
              "      <th>campanha</th>\n",
              "      <th>grupo de anúncio</th>\n",
              "      <th>data</th>\n",
              "      <th>impressões</th>\n",
              "      <th>cliques</th>\n",
              "      <th>leads</th>\n",
              "      <th>valor gasto</th>\n",
              "    </tr>\n",
              "  </thead>\n",
              "  <tbody>\n",
              "    <tr>\n",
              "      <th>0</th>\n",
              "      <td>facebook</td>\n",
              "      <td>atr_leads | Genérica  + Geral Promo [CBO]</td>\n",
              "      <td>LAL 1% COMPRADORES</td>\n",
              "      <td>45473</td>\n",
              "      <td>1899</td>\n",
              "      <td>10</td>\n",
              "      <td>1</td>\n",
              "      <td>48,3</td>\n",
              "    </tr>\n",
              "    <tr>\n",
              "      <th>1</th>\n",
              "      <td>facebook</td>\n",
              "      <td>atr_leads | avalie o seu usado [CBO] 2</td>\n",
              "      <td>LAL 1% COMPRADORES — AJUSTADO</td>\n",
              "      <td>45473</td>\n",
              "      <td>3687</td>\n",
              "      <td>38</td>\n",
              "      <td>4</td>\n",
              "      <td>60,47</td>\n",
              "    </tr>\n",
              "    <tr>\n",
              "      <th>2</th>\n",
              "      <td>facebook</td>\n",
              "      <td>atr_leads | promo - creta [CBO] 2</td>\n",
              "      <td>RMKT</td>\n",
              "      <td>45473</td>\n",
              "      <td>1080</td>\n",
              "      <td>7</td>\n",
              "      <td>3</td>\n",
              "      <td>32,62</td>\n",
              "    </tr>\n",
              "    <tr>\n",
              "      <th>3</th>\n",
              "      <td>facebook</td>\n",
              "      <td>atr_leads | promo - hb20 (CBO) 2</td>\n",
              "      <td>LAL Compradores 1%</td>\n",
              "      <td>45473</td>\n",
              "      <td>1059</td>\n",
              "      <td>3</td>\n",
              "      <td>1</td>\n",
              "      <td>13,96</td>\n",
              "    </tr>\n",
              "    <tr>\n",
              "      <th>4</th>\n",
              "      <td>facebook</td>\n",
              "      <td>atr_leads | promo - hb20 (CBO) 2</td>\n",
              "      <td>RMKT</td>\n",
              "      <td>45473</td>\n",
              "      <td>768</td>\n",
              "      <td>5</td>\n",
              "      <td></td>\n",
              "      <td>16,77</td>\n",
              "    </tr>\n",
              "    <tr>\n",
              "      <th>...</th>\n",
              "      <td>...</td>\n",
              "      <td>...</td>\n",
              "      <td>...</td>\n",
              "      <td>...</td>\n",
              "      <td>...</td>\n",
              "      <td>...</td>\n",
              "      <td>...</td>\n",
              "      <td>...</td>\n",
              "    </tr>\n",
              "    <tr>\n",
              "      <th>862</th>\n",
              "      <td>google</td>\n",
              "      <td>atr_search | Blumenau</td>\n",
              "      <td>HB20</td>\n",
              "      <td>45535</td>\n",
              "      <td>88</td>\n",
              "      <td>14</td>\n",
              "      <td>3</td>\n",
              "      <td>19,78</td>\n",
              "    </tr>\n",
              "    <tr>\n",
              "      <th>863</th>\n",
              "      <td>google</td>\n",
              "      <td>atr_search | Jaraguá do Sul</td>\n",
              "      <td>HB20</td>\n",
              "      <td>45535</td>\n",
              "      <td>129</td>\n",
              "      <td>10</td>\n",
              "      <td>3</td>\n",
              "      <td>20,71</td>\n",
              "    </tr>\n",
              "    <tr>\n",
              "      <th>864</th>\n",
              "      <td>google</td>\n",
              "      <td>atr_search | Joinville</td>\n",
              "      <td>HB20</td>\n",
              "      <td>45535</td>\n",
              "      <td>145</td>\n",
              "      <td>9</td>\n",
              "      <td>1</td>\n",
              "      <td>17,64</td>\n",
              "    </tr>\n",
              "    <tr>\n",
              "      <th>865</th>\n",
              "      <td>google</td>\n",
              "      <td>atr_search | marca</td>\n",
              "      <td>HB20</td>\n",
              "      <td>45535</td>\n",
              "      <td>339</td>\n",
              "      <td>29</td>\n",
              "      <td>1</td>\n",
              "      <td>25,65</td>\n",
              "    </tr>\n",
              "    <tr>\n",
              "      <th>866</th>\n",
              "      <td>google</td>\n",
              "      <td>atr_search | Ponta Grossa</td>\n",
              "      <td>HB20</td>\n",
              "      <td>45535</td>\n",
              "      <td>263</td>\n",
              "      <td>15</td>\n",
              "      <td>2</td>\n",
              "      <td>20,14</td>\n",
              "    </tr>\n",
              "  </tbody>\n",
              "</table>\n",
              "<p>867 rows × 8 columns</p>\n",
              "</div>\n",
              "    <div class=\"colab-df-buttons\">\n",
              "\n",
              "  <div class=\"colab-df-container\">\n",
              "    <button class=\"colab-df-convert\" onclick=\"convertToInteractive('df-b6cef4d2-9654-4277-8a24-5913049e4a40')\"\n",
              "            title=\"Convert this dataframe to an interactive table.\"\n",
              "            style=\"display:none;\">\n",
              "\n",
              "  <svg xmlns=\"http://www.w3.org/2000/svg\" height=\"24px\" viewBox=\"0 -960 960 960\">\n",
              "    <path d=\"M120-120v-720h720v720H120Zm60-500h600v-160H180v160Zm220 220h160v-160H400v160Zm0 220h160v-160H400v160ZM180-400h160v-160H180v160Zm440 0h160v-160H620v160ZM180-180h160v-160H180v160Zm440 0h160v-160H620v160Z\"/>\n",
              "  </svg>\n",
              "    </button>\n",
              "\n",
              "  <style>\n",
              "    .colab-df-container {\n",
              "      display:flex;\n",
              "      gap: 12px;\n",
              "    }\n",
              "\n",
              "    .colab-df-convert {\n",
              "      background-color: #E8F0FE;\n",
              "      border: none;\n",
              "      border-radius: 50%;\n",
              "      cursor: pointer;\n",
              "      display: none;\n",
              "      fill: #1967D2;\n",
              "      height: 32px;\n",
              "      padding: 0 0 0 0;\n",
              "      width: 32px;\n",
              "    }\n",
              "\n",
              "    .colab-df-convert:hover {\n",
              "      background-color: #E2EBFA;\n",
              "      box-shadow: 0px 1px 2px rgba(60, 64, 67, 0.3), 0px 1px 3px 1px rgba(60, 64, 67, 0.15);\n",
              "      fill: #174EA6;\n",
              "    }\n",
              "\n",
              "    .colab-df-buttons div {\n",
              "      margin-bottom: 4px;\n",
              "    }\n",
              "\n",
              "    [theme=dark] .colab-df-convert {\n",
              "      background-color: #3B4455;\n",
              "      fill: #D2E3FC;\n",
              "    }\n",
              "\n",
              "    [theme=dark] .colab-df-convert:hover {\n",
              "      background-color: #434B5C;\n",
              "      box-shadow: 0px 1px 3px 1px rgba(0, 0, 0, 0.15);\n",
              "      filter: drop-shadow(0px 1px 2px rgba(0, 0, 0, 0.3));\n",
              "      fill: #FFFFFF;\n",
              "    }\n",
              "  </style>\n",
              "\n",
              "    <script>\n",
              "      const buttonEl =\n",
              "        document.querySelector('#df-b6cef4d2-9654-4277-8a24-5913049e4a40 button.colab-df-convert');\n",
              "      buttonEl.style.display =\n",
              "        google.colab.kernel.accessAllowed ? 'block' : 'none';\n",
              "\n",
              "      async function convertToInteractive(key) {\n",
              "        const element = document.querySelector('#df-b6cef4d2-9654-4277-8a24-5913049e4a40');\n",
              "        const dataTable =\n",
              "          await google.colab.kernel.invokeFunction('convertToInteractive',\n",
              "                                                    [key], {});\n",
              "        if (!dataTable) return;\n",
              "\n",
              "        const docLinkHtml = 'Like what you see? Visit the ' +\n",
              "          '<a target=\"_blank\" href=https://colab.research.google.com/notebooks/data_table.ipynb>data table notebook</a>'\n",
              "          + ' to learn more about interactive tables.';\n",
              "        element.innerHTML = '';\n",
              "        dataTable['output_type'] = 'display_data';\n",
              "        await google.colab.output.renderOutput(dataTable, element);\n",
              "        const docLink = document.createElement('div');\n",
              "        docLink.innerHTML = docLinkHtml;\n",
              "        element.appendChild(docLink);\n",
              "      }\n",
              "    </script>\n",
              "  </div>\n",
              "\n",
              "\n",
              "    <div id=\"df-8eddeda0-57f4-4711-a9f1-9b8c21211789\">\n",
              "      <button class=\"colab-df-quickchart\" onclick=\"quickchart('df-8eddeda0-57f4-4711-a9f1-9b8c21211789')\"\n",
              "                title=\"Suggest charts\"\n",
              "                style=\"display:none;\">\n",
              "\n",
              "<svg xmlns=\"http://www.w3.org/2000/svg\" height=\"24px\"viewBox=\"0 0 24 24\"\n",
              "     width=\"24px\">\n",
              "    <g>\n",
              "        <path d=\"M19 3H5c-1.1 0-2 .9-2 2v14c0 1.1.9 2 2 2h14c1.1 0 2-.9 2-2V5c0-1.1-.9-2-2-2zM9 17H7v-7h2v7zm4 0h-2V7h2v10zm4 0h-2v-4h2v4z\"/>\n",
              "    </g>\n",
              "</svg>\n",
              "      </button>\n",
              "\n",
              "<style>\n",
              "  .colab-df-quickchart {\n",
              "      --bg-color: #E8F0FE;\n",
              "      --fill-color: #1967D2;\n",
              "      --hover-bg-color: #E2EBFA;\n",
              "      --hover-fill-color: #174EA6;\n",
              "      --disabled-fill-color: #AAA;\n",
              "      --disabled-bg-color: #DDD;\n",
              "  }\n",
              "\n",
              "  [theme=dark] .colab-df-quickchart {\n",
              "      --bg-color: #3B4455;\n",
              "      --fill-color: #D2E3FC;\n",
              "      --hover-bg-color: #434B5C;\n",
              "      --hover-fill-color: #FFFFFF;\n",
              "      --disabled-bg-color: #3B4455;\n",
              "      --disabled-fill-color: #666;\n",
              "  }\n",
              "\n",
              "  .colab-df-quickchart {\n",
              "    background-color: var(--bg-color);\n",
              "    border: none;\n",
              "    border-radius: 50%;\n",
              "    cursor: pointer;\n",
              "    display: none;\n",
              "    fill: var(--fill-color);\n",
              "    height: 32px;\n",
              "    padding: 0;\n",
              "    width: 32px;\n",
              "  }\n",
              "\n",
              "  .colab-df-quickchart:hover {\n",
              "    background-color: var(--hover-bg-color);\n",
              "    box-shadow: 0 1px 2px rgba(60, 64, 67, 0.3), 0 1px 3px 1px rgba(60, 64, 67, 0.15);\n",
              "    fill: var(--button-hover-fill-color);\n",
              "  }\n",
              "\n",
              "  .colab-df-quickchart-complete:disabled,\n",
              "  .colab-df-quickchart-complete:disabled:hover {\n",
              "    background-color: var(--disabled-bg-color);\n",
              "    fill: var(--disabled-fill-color);\n",
              "    box-shadow: none;\n",
              "  }\n",
              "\n",
              "  .colab-df-spinner {\n",
              "    border: 2px solid var(--fill-color);\n",
              "    border-color: transparent;\n",
              "    border-bottom-color: var(--fill-color);\n",
              "    animation:\n",
              "      spin 1s steps(1) infinite;\n",
              "  }\n",
              "\n",
              "  @keyframes spin {\n",
              "    0% {\n",
              "      border-color: transparent;\n",
              "      border-bottom-color: var(--fill-color);\n",
              "      border-left-color: var(--fill-color);\n",
              "    }\n",
              "    20% {\n",
              "      border-color: transparent;\n",
              "      border-left-color: var(--fill-color);\n",
              "      border-top-color: var(--fill-color);\n",
              "    }\n",
              "    30% {\n",
              "      border-color: transparent;\n",
              "      border-left-color: var(--fill-color);\n",
              "      border-top-color: var(--fill-color);\n",
              "      border-right-color: var(--fill-color);\n",
              "    }\n",
              "    40% {\n",
              "      border-color: transparent;\n",
              "      border-right-color: var(--fill-color);\n",
              "      border-top-color: var(--fill-color);\n",
              "    }\n",
              "    60% {\n",
              "      border-color: transparent;\n",
              "      border-right-color: var(--fill-color);\n",
              "    }\n",
              "    80% {\n",
              "      border-color: transparent;\n",
              "      border-right-color: var(--fill-color);\n",
              "      border-bottom-color: var(--fill-color);\n",
              "    }\n",
              "    90% {\n",
              "      border-color: transparent;\n",
              "      border-bottom-color: var(--fill-color);\n",
              "    }\n",
              "  }\n",
              "</style>\n",
              "\n",
              "      <script>\n",
              "        async function quickchart(key) {\n",
              "          const quickchartButtonEl =\n",
              "            document.querySelector('#' + key + ' button');\n",
              "          quickchartButtonEl.disabled = true;  // To prevent multiple clicks.\n",
              "          quickchartButtonEl.classList.add('colab-df-spinner');\n",
              "          try {\n",
              "            const charts = await google.colab.kernel.invokeFunction(\n",
              "                'suggestCharts', [key], {});\n",
              "          } catch (error) {\n",
              "            console.error('Error during call to suggestCharts:', error);\n",
              "          }\n",
              "          quickchartButtonEl.classList.remove('colab-df-spinner');\n",
              "          quickchartButtonEl.classList.add('colab-df-quickchart-complete');\n",
              "        }\n",
              "        (() => {\n",
              "          let quickchartButtonEl =\n",
              "            document.querySelector('#df-8eddeda0-57f4-4711-a9f1-9b8c21211789 button');\n",
              "          quickchartButtonEl.style.display =\n",
              "            google.colab.kernel.accessAllowed ? 'block' : 'none';\n",
              "        })();\n",
              "      </script>\n",
              "    </div>\n",
              "\n",
              "  <div id=\"id_2938ed7f-9321-4f26-91b7-666d5d0ed6ea\">\n",
              "    <style>\n",
              "      .colab-df-generate {\n",
              "        background-color: #E8F0FE;\n",
              "        border: none;\n",
              "        border-radius: 50%;\n",
              "        cursor: pointer;\n",
              "        display: none;\n",
              "        fill: #1967D2;\n",
              "        height: 32px;\n",
              "        padding: 0 0 0 0;\n",
              "        width: 32px;\n",
              "      }\n",
              "\n",
              "      .colab-df-generate:hover {\n",
              "        background-color: #E2EBFA;\n",
              "        box-shadow: 0px 1px 2px rgba(60, 64, 67, 0.3), 0px 1px 3px 1px rgba(60, 64, 67, 0.15);\n",
              "        fill: #174EA6;\n",
              "      }\n",
              "\n",
              "      [theme=dark] .colab-df-generate {\n",
              "        background-color: #3B4455;\n",
              "        fill: #D2E3FC;\n",
              "      }\n",
              "\n",
              "      [theme=dark] .colab-df-generate:hover {\n",
              "        background-color: #434B5C;\n",
              "        box-shadow: 0px 1px 3px 1px rgba(0, 0, 0, 0.15);\n",
              "        filter: drop-shadow(0px 1px 2px rgba(0, 0, 0, 0.3));\n",
              "        fill: #FFFFFF;\n",
              "      }\n",
              "    </style>\n",
              "    <button class=\"colab-df-generate\" onclick=\"generateWithVariable('df')\"\n",
              "            title=\"Generate code using this dataframe.\"\n",
              "            style=\"display:none;\">\n",
              "\n",
              "  <svg xmlns=\"http://www.w3.org/2000/svg\" height=\"24px\"viewBox=\"0 0 24 24\"\n",
              "       width=\"24px\">\n",
              "    <path d=\"M7,19H8.4L18.45,9,17,7.55,7,17.6ZM5,21V16.75L18.45,3.32a2,2,0,0,1,2.83,0l1.4,1.43a1.91,1.91,0,0,1,.58,1.4,1.91,1.91,0,0,1-.58,1.4L9.25,21ZM18.45,9,17,7.55Zm-12,3A5.31,5.31,0,0,0,4.9,8.1,5.31,5.31,0,0,0,1,6.5,5.31,5.31,0,0,0,4.9,4.9,5.31,5.31,0,0,0,6.5,1,5.31,5.31,0,0,0,8.1,4.9,5.31,5.31,0,0,0,12,6.5,5.46,5.46,0,0,0,6.5,12Z\"/>\n",
              "  </svg>\n",
              "    </button>\n",
              "    <script>\n",
              "      (() => {\n",
              "      const buttonEl =\n",
              "        document.querySelector('#id_2938ed7f-9321-4f26-91b7-666d5d0ed6ea button.colab-df-generate');\n",
              "      buttonEl.style.display =\n",
              "        google.colab.kernel.accessAllowed ? 'block' : 'none';\n",
              "\n",
              "      buttonEl.onclick = () => {\n",
              "        google.colab.notebook.generateWithVariable('df');\n",
              "      }\n",
              "      })();\n",
              "    </script>\n",
              "  </div>\n",
              "\n",
              "    </div>\n",
              "  </div>\n"
            ],
            "application/vnd.google.colaboratory.intrinsic+json": {
              "type": "dataframe",
              "variable_name": "df",
              "summary": "{\n  \"name\": \"df\",\n  \"rows\": 867,\n  \"fields\": [\n    {\n      \"column\": \"canal\",\n      \"properties\": {\n        \"dtype\": \"category\",\n        \"num_unique_values\": 2,\n        \"samples\": [\n          \"google\",\n          \"facebook\"\n        ],\n        \"semantic_type\": \"\",\n        \"description\": \"\"\n      }\n    },\n    {\n      \"column\": \"campanha\",\n      \"properties\": {\n        \"dtype\": \"category\",\n        \"num_unique_values\": 15,\n        \"samples\": [\n          \"atr_search | Jaragu\\u00e1 do Sul\",\n          \"atr_search | Joinville\"\n        ],\n        \"semantic_type\": \"\",\n        \"description\": \"\"\n      }\n    },\n    {\n      \"column\": \"grupo de an\\u00fancio\",\n      \"properties\": {\n        \"dtype\": \"category\",\n        \"num_unique_values\": 14,\n        \"samples\": [\n          \"LAL Compradores 1% \\u2014 Jaragu\\u00e1 do Sul + 17km\",\n          \"HB20\"\n        ],\n        \"semantic_type\": \"\",\n        \"description\": \"\"\n      }\n    },\n    {\n      \"column\": \"data\",\n      \"properties\": {\n        \"dtype\": \"category\",\n        \"num_unique_values\": 92,\n        \"samples\": [\n          \"45494\",\n          \"45451\"\n        ],\n        \"semantic_type\": \"\",\n        \"description\": \"\"\n      }\n    },\n    {\n      \"column\": \"impress\\u00f5es\",\n      \"properties\": {\n        \"dtype\": \"string\",\n        \"num_unique_values\": 717,\n        \"samples\": [\n          \"898\",\n          \"1182\"\n        ],\n        \"semantic_type\": \"\",\n        \"description\": \"\"\n      }\n    },\n    {\n      \"column\": \"cliques\",\n      \"properties\": {\n        \"dtype\": \"category\",\n        \"num_unique_values\": 67,\n        \"samples\": [\n          \"30\",\n          \"17\"\n        ],\n        \"semantic_type\": \"\",\n        \"description\": \"\"\n      }\n    },\n    {\n      \"column\": \"leads\",\n      \"properties\": {\n        \"dtype\": \"category\",\n        \"num_unique_values\": 19,\n        \"samples\": [\n          \"1\",\n          \"5\"\n        ],\n        \"semantic_type\": \"\",\n        \"description\": \"\"\n      }\n    },\n    {\n      \"column\": \"valor gasto\",\n      \"properties\": {\n        \"dtype\": \"string\",\n        \"num_unique_values\": 810,\n        \"samples\": [\n          \"15,89\",\n          \"32,81\"\n        ],\n        \"semantic_type\": \"\",\n        \"description\": \"\"\n      }\n    }\n  ]\n}"
            }
          },
          "metadata": {},
          "execution_count": 52
        }
      ]
    },
    {
      "cell_type": "markdown",
      "source": [
        "7. Conversão da coluna de datas"
      ],
      "metadata": {
        "id": "Hd27xbKGharG"
      }
    },
    {
      "cell_type": "code",
      "source": [
        "# Tenta converter 'data' de número serial (formato Excel) para datetime\n",
        "try:\n",
        "    df['data'] = pd.to_datetime(pd.to_numeric(df['data']), unit='D', origin='1899-12-30')\n",
        "except (ValueError, KeyError):\n",
        "    print(\"Coluna 'data' não está em formato serial. Tentando como string...\")\n",
        "    df['data'] = pd.to_datetime(df['data'], errors='coerce')\n",
        "except Exception as e:\n",
        "    print(f\"Erro ao converter 'data': {e}\")\n",
        "\n",
        "df['data']"
      ],
      "metadata": {
        "colab": {
          "base_uri": "https://localhost:8080/",
          "height": 458
        },
        "id": "9looRd_IhVbQ",
        "outputId": "09d846c1-3e8f-4d29-ad93-89aaf2f9f044"
      },
      "execution_count": 53,
      "outputs": [
        {
          "output_type": "execute_result",
          "data": {
            "text/plain": [
              "0     2024-06-30\n",
              "1     2024-06-30\n",
              "2     2024-06-30\n",
              "3     2024-06-30\n",
              "4     2024-06-30\n",
              "         ...    \n",
              "862   2024-08-31\n",
              "863   2024-08-31\n",
              "864   2024-08-31\n",
              "865   2024-08-31\n",
              "866   2024-08-31\n",
              "Name: data, Length: 867, dtype: datetime64[ns]"
            ],
            "text/html": [
              "<div>\n",
              "<style scoped>\n",
              "    .dataframe tbody tr th:only-of-type {\n",
              "        vertical-align: middle;\n",
              "    }\n",
              "\n",
              "    .dataframe tbody tr th {\n",
              "        vertical-align: top;\n",
              "    }\n",
              "\n",
              "    .dataframe thead th {\n",
              "        text-align: right;\n",
              "    }\n",
              "</style>\n",
              "<table border=\"1\" class=\"dataframe\">\n",
              "  <thead>\n",
              "    <tr style=\"text-align: right;\">\n",
              "      <th></th>\n",
              "      <th>data</th>\n",
              "    </tr>\n",
              "  </thead>\n",
              "  <tbody>\n",
              "    <tr>\n",
              "      <th>0</th>\n",
              "      <td>2024-06-30</td>\n",
              "    </tr>\n",
              "    <tr>\n",
              "      <th>1</th>\n",
              "      <td>2024-06-30</td>\n",
              "    </tr>\n",
              "    <tr>\n",
              "      <th>2</th>\n",
              "      <td>2024-06-30</td>\n",
              "    </tr>\n",
              "    <tr>\n",
              "      <th>3</th>\n",
              "      <td>2024-06-30</td>\n",
              "    </tr>\n",
              "    <tr>\n",
              "      <th>4</th>\n",
              "      <td>2024-06-30</td>\n",
              "    </tr>\n",
              "    <tr>\n",
              "      <th>...</th>\n",
              "      <td>...</td>\n",
              "    </tr>\n",
              "    <tr>\n",
              "      <th>862</th>\n",
              "      <td>2024-08-31</td>\n",
              "    </tr>\n",
              "    <tr>\n",
              "      <th>863</th>\n",
              "      <td>2024-08-31</td>\n",
              "    </tr>\n",
              "    <tr>\n",
              "      <th>864</th>\n",
              "      <td>2024-08-31</td>\n",
              "    </tr>\n",
              "    <tr>\n",
              "      <th>865</th>\n",
              "      <td>2024-08-31</td>\n",
              "    </tr>\n",
              "    <tr>\n",
              "      <th>866</th>\n",
              "      <td>2024-08-31</td>\n",
              "    </tr>\n",
              "  </tbody>\n",
              "</table>\n",
              "<p>867 rows × 1 columns</p>\n",
              "</div><br><label><b>dtype:</b> datetime64[ns]</label>"
            ]
          },
          "metadata": {},
          "execution_count": 53
        }
      ]
    },
    {
      "cell_type": "markdown",
      "source": [
        "8. Conversão de colunas numéricas"
      ],
      "metadata": {
        "id": "491oja5IhtcQ"
      }
    },
    {
      "cell_type": "code",
      "source": [
        "# Converte colunas numéricas inteiras\n",
        "for col in ['impressões', 'cliques']:\n",
        "    if col in df.columns:\n",
        "        df[col] = pd.to_numeric(df[col], errors='coerce').fillna(0)\n",
        "    else:\n",
        "        print(f\"Coluna '{col}' não encontrada.\")\n",
        "\n",
        "# Converte colunas com casas decimais (trocando ',' por '.')\n",
        "for col in ['leads', 'valor gasto']:\n",
        "    if col in df.columns:\n",
        "        df[col] = pd.to_numeric(df[col].astype(str).str.replace(',', '.'), errors='coerce').fillna(0)\n",
        "    else:\n",
        "        print(f\"Coluna '{col}' não encontrada.\")\n",
        "\n",
        "df.head()"
      ],
      "metadata": {
        "colab": {
          "base_uri": "https://localhost:8080/",
          "height": 206
        },
        "id": "Gg5arNXrhcXO",
        "outputId": "e811db45-313d-4cbb-95c2-e3eec36bb264"
      },
      "execution_count": 54,
      "outputs": [
        {
          "output_type": "execute_result",
          "data": {
            "text/plain": [
              "      canal                                   campanha  \\\n",
              "0  facebook  atr_leads | Genérica  + Geral Promo [CBO]   \n",
              "1  facebook     atr_leads | avalie o seu usado [CBO] 2   \n",
              "2  facebook          atr_leads | promo - creta [CBO] 2   \n",
              "3  facebook           atr_leads | promo - hb20 (CBO) 2   \n",
              "4  facebook           atr_leads | promo - hb20 (CBO) 2   \n",
              "\n",
              "                grupo de anúncio       data  impressões  cliques  leads  \\\n",
              "0             LAL 1% COMPRADORES 2024-06-30      1899.0     10.0    1.0   \n",
              "1  LAL 1% COMPRADORES — AJUSTADO 2024-06-30      3687.0     38.0    4.0   \n",
              "2                           RMKT 2024-06-30      1080.0      7.0    3.0   \n",
              "3             LAL Compradores 1% 2024-06-30      1059.0      3.0    1.0   \n",
              "4                           RMKT 2024-06-30       768.0      5.0    0.0   \n",
              "\n",
              "   valor gasto  \n",
              "0        48.30  \n",
              "1        60.47  \n",
              "2        32.62  \n",
              "3        13.96  \n",
              "4        16.77  "
            ],
            "text/html": [
              "\n",
              "  <div id=\"df-b9a25cc8-a806-49fd-b217-35eeb48922b6\" class=\"colab-df-container\">\n",
              "    <div>\n",
              "<style scoped>\n",
              "    .dataframe tbody tr th:only-of-type {\n",
              "        vertical-align: middle;\n",
              "    }\n",
              "\n",
              "    .dataframe tbody tr th {\n",
              "        vertical-align: top;\n",
              "    }\n",
              "\n",
              "    .dataframe thead th {\n",
              "        text-align: right;\n",
              "    }\n",
              "</style>\n",
              "<table border=\"1\" class=\"dataframe\">\n",
              "  <thead>\n",
              "    <tr style=\"text-align: right;\">\n",
              "      <th></th>\n",
              "      <th>canal</th>\n",
              "      <th>campanha</th>\n",
              "      <th>grupo de anúncio</th>\n",
              "      <th>data</th>\n",
              "      <th>impressões</th>\n",
              "      <th>cliques</th>\n",
              "      <th>leads</th>\n",
              "      <th>valor gasto</th>\n",
              "    </tr>\n",
              "  </thead>\n",
              "  <tbody>\n",
              "    <tr>\n",
              "      <th>0</th>\n",
              "      <td>facebook</td>\n",
              "      <td>atr_leads | Genérica  + Geral Promo [CBO]</td>\n",
              "      <td>LAL 1% COMPRADORES</td>\n",
              "      <td>2024-06-30</td>\n",
              "      <td>1899.0</td>\n",
              "      <td>10.0</td>\n",
              "      <td>1.0</td>\n",
              "      <td>48.30</td>\n",
              "    </tr>\n",
              "    <tr>\n",
              "      <th>1</th>\n",
              "      <td>facebook</td>\n",
              "      <td>atr_leads | avalie o seu usado [CBO] 2</td>\n",
              "      <td>LAL 1% COMPRADORES — AJUSTADO</td>\n",
              "      <td>2024-06-30</td>\n",
              "      <td>3687.0</td>\n",
              "      <td>38.0</td>\n",
              "      <td>4.0</td>\n",
              "      <td>60.47</td>\n",
              "    </tr>\n",
              "    <tr>\n",
              "      <th>2</th>\n",
              "      <td>facebook</td>\n",
              "      <td>atr_leads | promo - creta [CBO] 2</td>\n",
              "      <td>RMKT</td>\n",
              "      <td>2024-06-30</td>\n",
              "      <td>1080.0</td>\n",
              "      <td>7.0</td>\n",
              "      <td>3.0</td>\n",
              "      <td>32.62</td>\n",
              "    </tr>\n",
              "    <tr>\n",
              "      <th>3</th>\n",
              "      <td>facebook</td>\n",
              "      <td>atr_leads | promo - hb20 (CBO) 2</td>\n",
              "      <td>LAL Compradores 1%</td>\n",
              "      <td>2024-06-30</td>\n",
              "      <td>1059.0</td>\n",
              "      <td>3.0</td>\n",
              "      <td>1.0</td>\n",
              "      <td>13.96</td>\n",
              "    </tr>\n",
              "    <tr>\n",
              "      <th>4</th>\n",
              "      <td>facebook</td>\n",
              "      <td>atr_leads | promo - hb20 (CBO) 2</td>\n",
              "      <td>RMKT</td>\n",
              "      <td>2024-06-30</td>\n",
              "      <td>768.0</td>\n",
              "      <td>5.0</td>\n",
              "      <td>0.0</td>\n",
              "      <td>16.77</td>\n",
              "    </tr>\n",
              "  </tbody>\n",
              "</table>\n",
              "</div>\n",
              "    <div class=\"colab-df-buttons\">\n",
              "\n",
              "  <div class=\"colab-df-container\">\n",
              "    <button class=\"colab-df-convert\" onclick=\"convertToInteractive('df-b9a25cc8-a806-49fd-b217-35eeb48922b6')\"\n",
              "            title=\"Convert this dataframe to an interactive table.\"\n",
              "            style=\"display:none;\">\n",
              "\n",
              "  <svg xmlns=\"http://www.w3.org/2000/svg\" height=\"24px\" viewBox=\"0 -960 960 960\">\n",
              "    <path d=\"M120-120v-720h720v720H120Zm60-500h600v-160H180v160Zm220 220h160v-160H400v160Zm0 220h160v-160H400v160ZM180-400h160v-160H180v160Zm440 0h160v-160H620v160ZM180-180h160v-160H180v160Zm440 0h160v-160H620v160Z\"/>\n",
              "  </svg>\n",
              "    </button>\n",
              "\n",
              "  <style>\n",
              "    .colab-df-container {\n",
              "      display:flex;\n",
              "      gap: 12px;\n",
              "    }\n",
              "\n",
              "    .colab-df-convert {\n",
              "      background-color: #E8F0FE;\n",
              "      border: none;\n",
              "      border-radius: 50%;\n",
              "      cursor: pointer;\n",
              "      display: none;\n",
              "      fill: #1967D2;\n",
              "      height: 32px;\n",
              "      padding: 0 0 0 0;\n",
              "      width: 32px;\n",
              "    }\n",
              "\n",
              "    .colab-df-convert:hover {\n",
              "      background-color: #E2EBFA;\n",
              "      box-shadow: 0px 1px 2px rgba(60, 64, 67, 0.3), 0px 1px 3px 1px rgba(60, 64, 67, 0.15);\n",
              "      fill: #174EA6;\n",
              "    }\n",
              "\n",
              "    .colab-df-buttons div {\n",
              "      margin-bottom: 4px;\n",
              "    }\n",
              "\n",
              "    [theme=dark] .colab-df-convert {\n",
              "      background-color: #3B4455;\n",
              "      fill: #D2E3FC;\n",
              "    }\n",
              "\n",
              "    [theme=dark] .colab-df-convert:hover {\n",
              "      background-color: #434B5C;\n",
              "      box-shadow: 0px 1px 3px 1px rgba(0, 0, 0, 0.15);\n",
              "      filter: drop-shadow(0px 1px 2px rgba(0, 0, 0, 0.3));\n",
              "      fill: #FFFFFF;\n",
              "    }\n",
              "  </style>\n",
              "\n",
              "    <script>\n",
              "      const buttonEl =\n",
              "        document.querySelector('#df-b9a25cc8-a806-49fd-b217-35eeb48922b6 button.colab-df-convert');\n",
              "      buttonEl.style.display =\n",
              "        google.colab.kernel.accessAllowed ? 'block' : 'none';\n",
              "\n",
              "      async function convertToInteractive(key) {\n",
              "        const element = document.querySelector('#df-b9a25cc8-a806-49fd-b217-35eeb48922b6');\n",
              "        const dataTable =\n",
              "          await google.colab.kernel.invokeFunction('convertToInteractive',\n",
              "                                                    [key], {});\n",
              "        if (!dataTable) return;\n",
              "\n",
              "        const docLinkHtml = 'Like what you see? Visit the ' +\n",
              "          '<a target=\"_blank\" href=https://colab.research.google.com/notebooks/data_table.ipynb>data table notebook</a>'\n",
              "          + ' to learn more about interactive tables.';\n",
              "        element.innerHTML = '';\n",
              "        dataTable['output_type'] = 'display_data';\n",
              "        await google.colab.output.renderOutput(dataTable, element);\n",
              "        const docLink = document.createElement('div');\n",
              "        docLink.innerHTML = docLinkHtml;\n",
              "        element.appendChild(docLink);\n",
              "      }\n",
              "    </script>\n",
              "  </div>\n",
              "\n",
              "\n",
              "    <div id=\"df-ac54d08e-a4ba-4deb-904b-13c9be8c3a50\">\n",
              "      <button class=\"colab-df-quickchart\" onclick=\"quickchart('df-ac54d08e-a4ba-4deb-904b-13c9be8c3a50')\"\n",
              "                title=\"Suggest charts\"\n",
              "                style=\"display:none;\">\n",
              "\n",
              "<svg xmlns=\"http://www.w3.org/2000/svg\" height=\"24px\"viewBox=\"0 0 24 24\"\n",
              "     width=\"24px\">\n",
              "    <g>\n",
              "        <path d=\"M19 3H5c-1.1 0-2 .9-2 2v14c0 1.1.9 2 2 2h14c1.1 0 2-.9 2-2V5c0-1.1-.9-2-2-2zM9 17H7v-7h2v7zm4 0h-2V7h2v10zm4 0h-2v-4h2v4z\"/>\n",
              "    </g>\n",
              "</svg>\n",
              "      </button>\n",
              "\n",
              "<style>\n",
              "  .colab-df-quickchart {\n",
              "      --bg-color: #E8F0FE;\n",
              "      --fill-color: #1967D2;\n",
              "      --hover-bg-color: #E2EBFA;\n",
              "      --hover-fill-color: #174EA6;\n",
              "      --disabled-fill-color: #AAA;\n",
              "      --disabled-bg-color: #DDD;\n",
              "  }\n",
              "\n",
              "  [theme=dark] .colab-df-quickchart {\n",
              "      --bg-color: #3B4455;\n",
              "      --fill-color: #D2E3FC;\n",
              "      --hover-bg-color: #434B5C;\n",
              "      --hover-fill-color: #FFFFFF;\n",
              "      --disabled-bg-color: #3B4455;\n",
              "      --disabled-fill-color: #666;\n",
              "  }\n",
              "\n",
              "  .colab-df-quickchart {\n",
              "    background-color: var(--bg-color);\n",
              "    border: none;\n",
              "    border-radius: 50%;\n",
              "    cursor: pointer;\n",
              "    display: none;\n",
              "    fill: var(--fill-color);\n",
              "    height: 32px;\n",
              "    padding: 0;\n",
              "    width: 32px;\n",
              "  }\n",
              "\n",
              "  .colab-df-quickchart:hover {\n",
              "    background-color: var(--hover-bg-color);\n",
              "    box-shadow: 0 1px 2px rgba(60, 64, 67, 0.3), 0 1px 3px 1px rgba(60, 64, 67, 0.15);\n",
              "    fill: var(--button-hover-fill-color);\n",
              "  }\n",
              "\n",
              "  .colab-df-quickchart-complete:disabled,\n",
              "  .colab-df-quickchart-complete:disabled:hover {\n",
              "    background-color: var(--disabled-bg-color);\n",
              "    fill: var(--disabled-fill-color);\n",
              "    box-shadow: none;\n",
              "  }\n",
              "\n",
              "  .colab-df-spinner {\n",
              "    border: 2px solid var(--fill-color);\n",
              "    border-color: transparent;\n",
              "    border-bottom-color: var(--fill-color);\n",
              "    animation:\n",
              "      spin 1s steps(1) infinite;\n",
              "  }\n",
              "\n",
              "  @keyframes spin {\n",
              "    0% {\n",
              "      border-color: transparent;\n",
              "      border-bottom-color: var(--fill-color);\n",
              "      border-left-color: var(--fill-color);\n",
              "    }\n",
              "    20% {\n",
              "      border-color: transparent;\n",
              "      border-left-color: var(--fill-color);\n",
              "      border-top-color: var(--fill-color);\n",
              "    }\n",
              "    30% {\n",
              "      border-color: transparent;\n",
              "      border-left-color: var(--fill-color);\n",
              "      border-top-color: var(--fill-color);\n",
              "      border-right-color: var(--fill-color);\n",
              "    }\n",
              "    40% {\n",
              "      border-color: transparent;\n",
              "      border-right-color: var(--fill-color);\n",
              "      border-top-color: var(--fill-color);\n",
              "    }\n",
              "    60% {\n",
              "      border-color: transparent;\n",
              "      border-right-color: var(--fill-color);\n",
              "    }\n",
              "    80% {\n",
              "      border-color: transparent;\n",
              "      border-right-color: var(--fill-color);\n",
              "      border-bottom-color: var(--fill-color);\n",
              "    }\n",
              "    90% {\n",
              "      border-color: transparent;\n",
              "      border-bottom-color: var(--fill-color);\n",
              "    }\n",
              "  }\n",
              "</style>\n",
              "\n",
              "      <script>\n",
              "        async function quickchart(key) {\n",
              "          const quickchartButtonEl =\n",
              "            document.querySelector('#' + key + ' button');\n",
              "          quickchartButtonEl.disabled = true;  // To prevent multiple clicks.\n",
              "          quickchartButtonEl.classList.add('colab-df-spinner');\n",
              "          try {\n",
              "            const charts = await google.colab.kernel.invokeFunction(\n",
              "                'suggestCharts', [key], {});\n",
              "          } catch (error) {\n",
              "            console.error('Error during call to suggestCharts:', error);\n",
              "          }\n",
              "          quickchartButtonEl.classList.remove('colab-df-spinner');\n",
              "          quickchartButtonEl.classList.add('colab-df-quickchart-complete');\n",
              "        }\n",
              "        (() => {\n",
              "          let quickchartButtonEl =\n",
              "            document.querySelector('#df-ac54d08e-a4ba-4deb-904b-13c9be8c3a50 button');\n",
              "          quickchartButtonEl.style.display =\n",
              "            google.colab.kernel.accessAllowed ? 'block' : 'none';\n",
              "        })();\n",
              "      </script>\n",
              "    </div>\n",
              "\n",
              "    </div>\n",
              "  </div>\n"
            ],
            "application/vnd.google.colaboratory.intrinsic+json": {
              "type": "dataframe",
              "variable_name": "df",
              "summary": "{\n  \"name\": \"df\",\n  \"rows\": 867,\n  \"fields\": [\n    {\n      \"column\": \"canal\",\n      \"properties\": {\n        \"dtype\": \"category\",\n        \"num_unique_values\": 2,\n        \"samples\": [\n          \"google\",\n          \"facebook\"\n        ],\n        \"semantic_type\": \"\",\n        \"description\": \"\"\n      }\n    },\n    {\n      \"column\": \"campanha\",\n      \"properties\": {\n        \"dtype\": \"category\",\n        \"num_unique_values\": 15,\n        \"samples\": [\n          \"atr_search | Jaragu\\u00e1 do Sul\",\n          \"atr_search | Joinville\"\n        ],\n        \"semantic_type\": \"\",\n        \"description\": \"\"\n      }\n    },\n    {\n      \"column\": \"grupo de an\\u00fancio\",\n      \"properties\": {\n        \"dtype\": \"category\",\n        \"num_unique_values\": 14,\n        \"samples\": [\n          \"LAL Compradores 1% \\u2014 Jaragu\\u00e1 do Sul + 17km\",\n          \"HB20\"\n        ],\n        \"semantic_type\": \"\",\n        \"description\": \"\"\n      }\n    },\n    {\n      \"column\": \"data\",\n      \"properties\": {\n        \"dtype\": \"date\",\n        \"min\": \"2024-06-01 00:00:00\",\n        \"max\": \"2024-08-31 00:00:00\",\n        \"num_unique_values\": 92,\n        \"samples\": [\n          \"2024-07-21 00:00:00\",\n          \"2024-06-08 00:00:00\"\n        ],\n        \"semantic_type\": \"\",\n        \"description\": \"\"\n      }\n    },\n    {\n      \"column\": \"impress\\u00f5es\",\n      \"properties\": {\n        \"dtype\": \"number\",\n        \"std\": 1657.9487700296163,\n        \"min\": 0.0,\n        \"max\": 10719.0,\n        \"num_unique_values\": 717,\n        \"samples\": [\n          898.0,\n          1182.0\n        ],\n        \"semantic_type\": \"\",\n        \"description\": \"\"\n      }\n    },\n    {\n      \"column\": \"cliques\",\n      \"properties\": {\n        \"dtype\": \"number\",\n        \"std\": 12.932616975576648,\n        \"min\": 0.0,\n        \"max\": 76.0,\n        \"num_unique_values\": 66,\n        \"samples\": [\n          31.0,\n          50.0\n        ],\n        \"semantic_type\": \"\",\n        \"description\": \"\"\n      }\n    },\n    {\n      \"column\": \"leads\",\n      \"properties\": {\n        \"dtype\": \"number\",\n        \"std\": 2.475265818614937,\n        \"min\": 0.0,\n        \"max\": 15.0,\n        \"num_unique_values\": 18,\n        \"samples\": [\n          1.0,\n          4.0\n        ],\n        \"semantic_type\": \"\",\n        \"description\": \"\"\n      }\n    },\n    {\n      \"column\": \"valor gasto\",\n      \"properties\": {\n        \"dtype\": \"number\",\n        \"std\": 29.65304595593669,\n        \"min\": 0.0,\n        \"max\": 169.44,\n        \"num_unique_values\": 809,\n        \"samples\": [\n          73.4,\n          20.92\n        ],\n        \"semantic_type\": \"\",\n        \"description\": \"\"\n      }\n    }\n  ]\n}"
            }
          },
          "metadata": {},
          "execution_count": 54
        }
      ]
    },
    {
      "cell_type": "markdown",
      "source": [
        "9. Exportar o DataFrame como CSV"
      ],
      "metadata": {
        "id": "80y6IiZliHyU"
      }
    },
    {
      "cell_type": "code",
      "source": [
        "output_csv_file = \"planilha_processada.csv\"\n",
        "df.to_csv(output_csv_file, sep=';', index=False)\n",
        "\n",
        "print(f\"✅ Dados processados salvos em: {output_csv_file}\")"
      ],
      "metadata": {
        "colab": {
          "base_uri": "https://localhost:8080/"
        },
        "id": "7sG0AJlrhsGm",
        "outputId": "805bbd7f-4882-4fa7-b876-6655561d2e11"
      },
      "execution_count": 55,
      "outputs": [
        {
          "output_type": "stream",
          "name": "stdout",
          "text": [
            "✅ Dados processados salvos em: planilha_processada.csv\n"
          ]
        }
      ]
    },
    {
      "cell_type": "markdown",
      "source": [
        "10. Envia pra aba na planilha do Google para análise no Looker"
      ],
      "metadata": {
        "id": "_tVoMWUolRmx"
      }
    },
    {
      "cell_type": "code",
      "source": [
        "# Abre a planilha completa (não só a aba)\n",
        "spreadsheet = gc.open_by_key(spreadsheet_id)\n",
        "\n",
        "# Tenta acessar a aba 'Dados Tratados'. Se não existir, cria.\n",
        "try:\n",
        "    worksheet_tratada = spreadsheet.worksheet(\"Dados Tratados\")\n",
        "    worksheet_tratada.clear()  # Limpa conteúdo se já existir\n",
        "except:\n",
        "    worksheet_tratada = spreadsheet.add_worksheet(title=\"Dados Tratados\", rows=\"1\", cols=\"1\")\n",
        "\n",
        "# Envia o DataFrame tratado para essa aba\n",
        "set_with_dataframe(worksheet_tratada, df)\n",
        "\n",
        "print(\"✅ Dados tratados enviados para a aba 'Dados Tratados' na planilha.\")"
      ],
      "metadata": {
        "colab": {
          "base_uri": "https://localhost:8080/"
        },
        "id": "dddZ46xKkYGR",
        "outputId": "74929f9c-53b0-4c29-d1d6-5747e49eb3a5"
      },
      "execution_count": 56,
      "outputs": [
        {
          "output_type": "stream",
          "name": "stdout",
          "text": [
            "✅ Dados tratados enviados para a aba 'Dados Tratados' na planilha.\n"
          ]
        }
      ]
    },
    {
      "cell_type": "markdown",
      "source": [
        "Observações:\n",
        "\n",
        "O dashboard no Google Looker Studio foi preparado com a estrutura necessária, incluindo:\n",
        "\n",
        "- Principais campanhas e grupos de anúncios\n",
        "\n",
        "- Indicadores calculados (CPM, CTR, CPL, Taxa de Conversão)\n",
        "\n",
        "- Filtros por data e outros critérios\n",
        "\n",
        "- Tabelas com capacidade de drill-down\n",
        "\n",
        "Dashboard: https://lookerstudio.google.com/reporting/b9e32f36-519e-41f1-84de-5196bddc4713"
      ],
      "metadata": {
        "id": "WKsifH3Xr-vs"
      }
    },
    {
      "cell_type": "markdown",
      "source": [
        "## PARTE 2 - SQL para análises"
      ],
      "metadata": {
        "id": "-lLahFixm2_v"
      }
    },
    {
      "cell_type": "markdown",
      "source": [
        "Esta etapa, os dados previamente tratados foram armazenados em um banco de dados local utilizando SQLite, com o objetivo de facilitar consultas analíticas por meio de comandos SQL.\n",
        "\n",
        "O processo incluiu:\n",
        "\n",
        "1. Criação do banco local (campanhas.db) e definição da tabela campanhas, com as seguintes colunas:\n",
        "\n",
        "- data (DATE)\n",
        "\n",
        "-  campanha (TEXT)\n",
        "\n",
        "- impressoes (INTEGER)\n",
        "\n",
        "- cliques (INTEGER)\n",
        "\n",
        "- leads (INTEGER)\n",
        "\n",
        "- valor_gasto (REAL)\n",
        "\n",
        "2. Inserção dos dados tratados diretamente do DataFrame para a tabela usando pandas.to_sql.\n",
        "\n",
        "3. Execução de duas consultas para responder às perguntas-chave:\n",
        "\n",
        "- Qual campanha trouxe mais leads no período total?\n",
        "→ Consulta utilizando SUM(leads) agrupado por campanha.\n",
        "\n",
        "- Qual campanha apresentou o melhor CPL (Custo por Lead)?\n",
        "→ Cálculo com SUM(valor_gasto) / SUM(leads) ordenado do menor para o maior valor.\n",
        "\n",
        "As respostas foram obtidas diretamente via SQL, e o banco pode ser reutilizado para novas análises futuras."
      ],
      "metadata": {
        "id": "8krNEfKhnNnr"
      }
    },
    {
      "cell_type": "markdown",
      "source": [
        "1. Importação de bibliotecas"
      ],
      "metadata": {
        "id": "0GU7uYV6m__l"
      }
    },
    {
      "cell_type": "code",
      "source": [
        "import sqlite3"
      ],
      "metadata": {
        "id": "cq8z6uK7m-B_"
      },
      "execution_count": 57,
      "outputs": []
    },
    {
      "cell_type": "markdown",
      "source": [
        "2. Criar banco de dados local"
      ],
      "metadata": {
        "id": "WRNTFf37nuH0"
      }
    },
    {
      "cell_type": "code",
      "source": [
        "# Conectar/criar banco local\n",
        "conn = sqlite3.connect('campanhas.db')\n",
        "cursor = conn.cursor()"
      ],
      "metadata": {
        "id": "Pqeibq0Rnq1p"
      },
      "execution_count": 58,
      "outputs": []
    },
    {
      "cell_type": "markdown",
      "source": [
        "3. Criação e população da tabela"
      ],
      "metadata": {
        "id": "zCPWdJQQn4p8"
      }
    },
    {
      "cell_type": "code",
      "source": [
        "# Criação da tabela\n",
        "cursor.execute('''\n",
        "CREATE TABLE IF NOT EXISTS campanhas (\n",
        "    data DATE,\n",
        "    campanha TEXT,\n",
        "    impressoes INTEGER,\n",
        "    cliques INTEGER,\n",
        "    leads INTEGER,\n",
        "    valor_gasto REAL\n",
        ")\n",
        "''')\n",
        "\n",
        "conn.commit()\n",
        "\n",
        "# Inserir dados do DataFrame no banco\n",
        "df_renamed = df.rename(columns={\n",
        "    'data': 'data',\n",
        "    'campanha': 'campanha',\n",
        "    'impressões': 'impressoes',\n",
        "    'cliques': 'cliques',\n",
        "    'leads': 'leads',\n",
        "    'valor gasto': 'valor_gasto'\n",
        "})\n",
        "df_renamed.to_sql('campanhas', conn, if_exists='replace', index=False)"
      ],
      "metadata": {
        "colab": {
          "base_uri": "https://localhost:8080/"
        },
        "id": "tZRd2Sb_n1XY",
        "outputId": "91057056-38df-426a-aa76-ee64574f4b87"
      },
      "execution_count": 59,
      "outputs": [
        {
          "output_type": "execute_result",
          "data": {
            "text/plain": [
              "867"
            ]
          },
          "metadata": {},
          "execution_count": 59
        }
      ]
    },
    {
      "cell_type": "markdown",
      "source": [
        "###Pergunta 1: Qual campanha trouxe mais leads no período total?"
      ],
      "metadata": {
        "id": "n2u3J7UAolRk"
      }
    },
    {
      "cell_type": "code",
      "source": [
        "query1 = \"\"\"\n",
        "SELECT campanha, SUM(leads) AS total_leads\n",
        "FROM campanhas\n",
        "GROUP BY campanha\n",
        "ORDER BY total_leads\n",
        "DESC\n",
        "LIMIT 1\n",
        "\"\"\"\n",
        "\n",
        "cursor.execute(query1)\n",
        "result1 = cursor.fetchone()\n",
        "print(f\"Campanha com mais leads: {result1[0]} com {result1[1]} leads\")"
      ],
      "metadata": {
        "colab": {
          "base_uri": "https://localhost:8080/"
        },
        "id": "DrEt1t_OoVSN",
        "outputId": "9f73510c-0b5e-4f4b-95f8-9bb1a91dd755"
      },
      "execution_count": 60,
      "outputs": [
        {
          "output_type": "stream",
          "name": "stdout",
          "text": [
            "Campanha com mais leads: atr_leads | promo - hb20 (CBO) 2 com 493.0 leads\n"
          ]
        }
      ]
    },
    {
      "cell_type": "markdown",
      "source": [
        "###Pergunta 2: Qual campanha tem melhor CPL (Custo por Lead) no período total?"
      ],
      "metadata": {
        "id": "ZN332zkSpJjA"
      }
    },
    {
      "cell_type": "markdown",
      "source": [
        "CPL = valor_gasto / leads"
      ],
      "metadata": {
        "id": "mWm9QYV6pcMG"
      }
    },
    {
      "cell_type": "code",
      "source": [
        "query2 = \"\"\"\n",
        "SELECT campanha,\n",
        "       SUM(valor_gasto) / NULLIF(SUM(leads), 0) AS cpl\n",
        "FROM campanhas\n",
        "GROUP BY campanha\n",
        "HAVING SUM(leads) > 0\n",
        "ORDER BY cpl ASC\n",
        "LIMIT 1\n",
        "\"\"\"\n",
        "\n",
        "cursor.execute(query2)\n",
        "result2 = cursor.fetchone()\n",
        "print(f\"Campanha com melhor CPL: {result2[0]} com CPL de R$ {result2[1]:.2f}\")"
      ],
      "metadata": {
        "colab": {
          "base_uri": "https://localhost:8080/"
        },
        "id": "R-2hzJRPowPS",
        "outputId": "d2e28820-8051-46c1-8ebf-05c60e6dcfe2"
      },
      "execution_count": 61,
      "outputs": [
        {
          "output_type": "stream",
          "name": "stdout",
          "text": [
            "Campanha com melhor CPL: atr_leads | promo - hb20 (CBO) 2 com CPL de R$ 11.34\n"
          ]
        }
      ]
    },
    {
      "cell_type": "markdown",
      "source": [
        "4. Schema da tabela"
      ],
      "metadata": {
        "id": "v45eTn2Jphh8"
      }
    },
    {
      "cell_type": "code",
      "source": [
        "cursor.execute(\"PRAGMA table_info(campanhas)\")\n",
        "schema = cursor.fetchall()\n",
        "print(\"Schema da tabela 'campanhas':\")\n",
        "for col in schema:\n",
        "    print(col)"
      ],
      "metadata": {
        "colab": {
          "base_uri": "https://localhost:8080/"
        },
        "id": "laxD7cvcpYIu",
        "outputId": "3899a062-08db-489b-fb6e-d9316b1e789c"
      },
      "execution_count": 62,
      "outputs": [
        {
          "output_type": "stream",
          "name": "stdout",
          "text": [
            "Schema da tabela 'campanhas':\n",
            "(0, 'canal', 'TEXT', 0, None, 0)\n",
            "(1, 'campanha', 'TEXT', 0, None, 0)\n",
            "(2, 'grupo de anúncio', 'TEXT', 0, None, 0)\n",
            "(3, 'data', 'TIMESTAMP', 0, None, 0)\n",
            "(4, 'impressoes', 'REAL', 0, None, 0)\n",
            "(5, 'cliques', 'REAL', 0, None, 0)\n",
            "(6, 'leads', 'REAL', 0, None, 0)\n",
            "(7, 'valor_gasto', 'REAL', 0, None, 0)\n"
          ]
        }
      ]
    },
    {
      "cell_type": "markdown",
      "source": [
        "Consultas Extras"
      ],
      "metadata": {
        "id": "TkXqyvZtLwoW"
      }
    },
    {
      "cell_type": "code",
      "source": [
        "# Query para calcular o total de leads por campanha e a razão percentual\n",
        "query3 = \"\"\"\n",
        "SELECT\n",
        "    campanha,\n",
        "    SUM(leads) AS total_leads,\n",
        "    ROUND(100.0 * SUM(leads) / (SELECT SUM(leads) FROM campanhas), 2) AS percentual\n",
        "FROM campanhas\n",
        "GROUP BY campanha\n",
        "ORDER BY total_leads ASC\n",
        "LIMIT 5\n",
        "\"\"\"\n",
        "\n",
        "cursor.execute(query3)\n",
        "results = cursor.fetchall()\n",
        "\n",
        "print(\"Leads por campanha (ordenado do menor para o maior):\")\n",
        "for campanha, total_leads, percentual in results:\n",
        "    print(f\"{campanha}: {total_leads} leads ({percentual}%)\")\n",
        "\n",
        "print(\"......\")\n",
        "\n",
        "# Query para calcular CPL\n",
        "query4 = \"\"\"\n",
        "SELECT campanha,\n",
        "       SUM(valor_gasto) / NULLIF(SUM(leads), 0) AS cpl\n",
        "FROM campanhas\n",
        "GROUP BY campanha\n",
        "HAVING SUM(leads) > 0\n",
        "ORDER BY cpl DESC\n",
        "LIMIT 5\n",
        "\"\"\"\n",
        "\n",
        "cursor.execute(query4)\n",
        "results = cursor.fetchall()\n",
        "\n",
        "print(\"CPL por campanha (ordenado do maior para o menor):\")\n",
        "for campanha, CPL in results:\n",
        "    print(f\"{campanha}: R${CPL:.2f}\")"
      ],
      "metadata": {
        "colab": {
          "base_uri": "https://localhost:8080/"
        },
        "id": "vtGlvt9EJ4V5",
        "outputId": "2a46fee7-cc36-435c-ebee-6ee3ac6741ec"
      },
      "execution_count": 63,
      "outputs": [
        {
          "output_type": "stream",
          "name": "stdout",
          "text": [
            "Leads por campanha (ordenado do menor para o maior):\n",
            "atr_leads | avalie o seu usado [CBO]: 2.0 leads (0.11%)\n",
            "atr_search | joinviile (NEW) - TESTE: 3.0 leads (0.16%)\n",
            "atr_search | Ponta Grossa: 6.0 leads (0.32%)\n",
            "atr_search | AsU: 20.0 leads (1.06%)\n",
            "atr_leads | Hyundai Day: 25.0 leads (1.32%)\n",
            "......\n",
            "CPL por campanha (ordenado do maior para o menor):\n",
            "atr_search | joinviile (NEW) - TESTE: R$68.02\n",
            "atr_leads | avalie o seu usado [CBO]: R$56.96\n",
            "atr_search | Blumenau: R$55.49\n",
            "atr_search | Joinville: R$31.66\n",
            "atr_leads | Promo HR [CBO]: R$31.05\n"
          ]
        }
      ]
    },
    {
      "cell_type": "code",
      "source": [
        "# Query para calcular o total de leads por canal e a razão percentual\n",
        "query_canal_leads = \"\"\"\n",
        "SELECT\n",
        "    canal,\n",
        "    SUM(leads) AS total_leads,\n",
        "    ROUND(100.0 * SUM(leads) / (SELECT SUM(leads) FROM campanhas), 2) AS percentual\n",
        "FROM campanhas\n",
        "GROUP BY canal\n",
        "ORDER BY total_leads ASC\n",
        "\"\"\"\n",
        "\n",
        "cursor.execute(query_canal_leads)\n",
        "results = cursor.fetchall()\n",
        "\n",
        "print(\"Leads por canal (ordenado do menor para o maior):\")\n",
        "for canal, total_leads, percentual in results:\n",
        "    print(f\"{canal}: {total_leads} leads ({percentual}%)\")\n",
        "\n",
        "print(\"......\")\n",
        "\n",
        "# Query para calcular o CPL por canal\n",
        "query_canal_cpl = \"\"\"\n",
        "SELECT\n",
        "    canal,\n",
        "    SUM(valor_gasto) / NULLIF(SUM(leads), 0) AS cpl\n",
        "FROM campanhas\n",
        "GROUP BY canal\n",
        "HAVING SUM(leads) > 0\n",
        "ORDER BY cpl DESC\n",
        "\"\"\"\n",
        "\n",
        "cursor.execute(query_canal_cpl)\n",
        "results = cursor.fetchall()\n",
        "\n",
        "print(\"CPL por canal (ordenado do maior para o menor):\")\n",
        "for canal, cpl in results:\n",
        "    print(f\"{canal}: R${cpl:.2f}\")"
      ],
      "metadata": {
        "colab": {
          "base_uri": "https://localhost:8080/"
        },
        "id": "YozMnxOVNE_b",
        "outputId": "a1f243a2-225f-49db-91b7-afec1e1444e9"
      },
      "execution_count": 64,
      "outputs": [
        {
          "output_type": "stream",
          "name": "stdout",
          "text": [
            "Leads por canal (ordenado do menor para o maior):\n",
            "google: 306.0 leads (16.19%)\n",
            "facebook: 1584.0 leads (83.81%)\n",
            "......\n",
            "CPL por canal (ordenado do maior para o menor):\n",
            "google: R$30.19\n",
            "facebook: R$13.92\n"
          ]
        }
      ]
    },
    {
      "cell_type": "markdown",
      "source": [
        "## PARTE 3 - Capacidade analítica"
      ],
      "metadata": {
        "id": "tbU2zf5WryEe"
      }
    },
    {
      "cell_type": "markdown",
      "source": [
        "Principais Insights Identificados:\n",
        "\n",
        "### Por Campanha:\n",
        "\n",
        "1. Campanha de Alta Performance: A campanha atr_leads | promo - hb20 (CBO) 2 se destaca como líder tanto em volume de leads (493) quanto em eficiência de custo (CPL R$ 11,34)\n",
        "\n",
        "\n",
        "\n",
        "2. Oportunidades de Otimização:\n",
        "As campanhas mais caras que atrairam poucos leads foram:\n",
        "\n",
        "- atr_leads | avalie o seu usado [CBO] com 2 leads e um investimento de R$ 56,96\n",
        "\n",
        "- atr_search | joinviile (NEW) - TESTE com 3 leads e um investimento de R$ 68,02\n",
        "\n",
        "\n",
        "- atr_search | Ponta Grossa com 6 leads e um investimento de R$ 55,49\n",
        "\n",
        "\n",
        "3. Recomendações Estratégicas:\n",
        "\n",
        "- Escalar campanhas eficientes: Aumentar investimento na campanha promo - HB20\n",
        "\n",
        "- Otimizar campanhas de busca como revisar palavras-chave\n",
        "\n",
        "- Melhorar segmentação: Focar em públicos com maior propensão à conversão\n",
        "\n",
        "### Por Canal\n",
        "\n",
        "1. Distribuição de Leads:\n",
        "\n",
        "- Facebook foi o canal mais eficiente em volume de geração de leads, respondendo por 83,81% do total (1.584 leads).\n",
        "\n",
        "- Google gerou apenas 16,19% dos leads (306 leads), uma diferença significativa em relação ao Facebook.\n",
        "\n",
        "2. Custo por Lead (CPL):\n",
        "\n",
        "- O CPL do Google está em R$30,19, mais que o dobro do CPL do Facebook (R$13,92).\n",
        "\n",
        "\n",
        "3. Recomendações Estratégicas:\n",
        "\n",
        "O canal Facebook tem um desempenho muito superior, tanto em volume de leads quanto em eficiência de custo. Isso indica que, embora o Google tenha gerado menos leads, ele também foi menos eficiente em termos de custo.\n",
        "\n",
        "Pode ser interessante realocar parte do investimento do Google para o Facebook, ou investigar formas de otimizar as campanhas no Google para reduzir o CPL."
      ],
      "metadata": {
        "id": "GVdP3IV8simW"
      }
    },
    {
      "cell_type": "markdown",
      "source": [
        "## PARTE 4 - Integrações"
      ],
      "metadata": {
        "id": "6BMA23WNsmLc"
      }
    },
    {
      "cell_type": "markdown",
      "source": [
        "Consulta à API de Cotação do Dólar – Banco Central\n",
        "\n",
        "\n",
        "Esta etapa realiza a extração das cotações do dólar comercial (compra e venda) dos últimos 7 dias úteis utilizando a API pública do Banco Central. Os dados são consultados no formato JSON, processados com Python (Pandas) e exportados em formato .csv para análise ou uso posterior.\n",
        "\n",
        "<hr>\n",
        "\n",
        "API - Navegador de Dados Banco Central\n",
        "\n",
        "URL: https://olinda.bcb.gov.br/olinda/servico/PTAX/versao/v1/aplicacao#!/\n",
        "\n",
        "Endereço padrão:\n",
        "https ://olinda.bcb.gov.br/olinda/servico/PTAX/versao/v1/odata/[codigo_recurso]?$format=json&[Outros Parâmetros]\n",
        "\n",
        "Os parâmetros disponíveis podem ser visualizados na documentação\n",
        "\n",
        "Os códigos dos recursos disponibilizados são: Moedas, CotacaoDolarDia, CotacaoDolarPeriodo, CotacaoMoedaDia, CotacaoMoedaPeriodo"
      ],
      "metadata": {
        "id": "KY3DRK90zca2"
      }
    },
    {
      "cell_type": "markdown",
      "source": [
        "1. Instalação e importação de bibliotecas"
      ],
      "metadata": {
        "id": "n21Os6DnuA1i"
      }
    },
    {
      "cell_type": "code",
      "source": [
        "# Instala a biblioteca para requisições WEB\n",
        "!pip install gspread\n",
        "\n",
        "# Bibliotecas para manipulação de dados e envio de requisições WEB\n",
        "import requests\n",
        "import pandas as pd\n",
        "from datetime import datetime, timedelta"
      ],
      "metadata": {
        "colab": {
          "base_uri": "https://localhost:8080/"
        },
        "id": "xWzTB10ZsrgP",
        "outputId": "043072af-e13a-482c-d082-e8c25b8bd72b"
      },
      "execution_count": 65,
      "outputs": [
        {
          "output_type": "stream",
          "name": "stdout",
          "text": [
            "Requirement already satisfied: gspread in /usr/local/lib/python3.11/dist-packages (6.2.1)\n",
            "Requirement already satisfied: google-auth>=1.12.0 in /usr/local/lib/python3.11/dist-packages (from gspread) (2.38.0)\n",
            "Requirement already satisfied: google-auth-oauthlib>=0.4.1 in /usr/local/lib/python3.11/dist-packages (from gspread) (1.2.2)\n",
            "Requirement already satisfied: cachetools<6.0,>=2.0.0 in /usr/local/lib/python3.11/dist-packages (from google-auth>=1.12.0->gspread) (5.5.2)\n",
            "Requirement already satisfied: pyasn1-modules>=0.2.1 in /usr/local/lib/python3.11/dist-packages (from google-auth>=1.12.0->gspread) (0.4.2)\n",
            "Requirement already satisfied: rsa<5,>=3.1.4 in /usr/local/lib/python3.11/dist-packages (from google-auth>=1.12.0->gspread) (4.9.1)\n",
            "Requirement already satisfied: requests-oauthlib>=0.7.0 in /usr/local/lib/python3.11/dist-packages (from google-auth-oauthlib>=0.4.1->gspread) (2.0.0)\n",
            "Requirement already satisfied: pyasn1<0.7.0,>=0.6.1 in /usr/local/lib/python3.11/dist-packages (from pyasn1-modules>=0.2.1->google-auth>=1.12.0->gspread) (0.6.1)\n",
            "Requirement already satisfied: oauthlib>=3.0.0 in /usr/local/lib/python3.11/dist-packages (from requests-oauthlib>=0.7.0->google-auth-oauthlib>=0.4.1->gspread) (3.3.1)\n",
            "Requirement already satisfied: requests>=2.0.0 in /usr/local/lib/python3.11/dist-packages (from requests-oauthlib>=0.7.0->google-auth-oauthlib>=0.4.1->gspread) (2.32.3)\n",
            "Requirement already satisfied: charset-normalizer<4,>=2 in /usr/local/lib/python3.11/dist-packages (from requests>=2.0.0->requests-oauthlib>=0.7.0->google-auth-oauthlib>=0.4.1->gspread) (3.4.2)\n",
            "Requirement already satisfied: idna<4,>=2.5 in /usr/local/lib/python3.11/dist-packages (from requests>=2.0.0->requests-oauthlib>=0.7.0->google-auth-oauthlib>=0.4.1->gspread) (3.10)\n",
            "Requirement already satisfied: urllib3<3,>=1.21.1 in /usr/local/lib/python3.11/dist-packages (from requests>=2.0.0->requests-oauthlib>=0.7.0->google-auth-oauthlib>=0.4.1->gspread) (2.4.0)\n",
            "Requirement already satisfied: certifi>=2017.4.17 in /usr/local/lib/python3.11/dist-packages (from requests>=2.0.0->requests-oauthlib>=0.7.0->google-auth-oauthlib>=0.4.1->gspread) (2025.7.14)\n"
          ]
        }
      ]
    },
    {
      "cell_type": "markdown",
      "source": [
        "2. Definição do Período de Busca"
      ],
      "metadata": {
        "id": "X6AfrxK_uaw1"
      }
    },
    {
      "cell_type": "code",
      "source": [
        "data_fim = datetime.today()\n",
        "data_inicio = data_fim - timedelta(days=7)\n",
        "\n",
        "# Formatar as datas para o formato que a API espera (MM-DD-YYYY)\n",
        "data_inicio_str = data_inicio.strftime('%m-%d-%Y')\n",
        "data_fim_str = data_fim.strftime('%m-%d-%Y')\n",
        "\n",
        "print(f\"Período de busca definido: de {data_inicio.strftime('%d-%m-%Y')} a {data_fim.strftime('%d-%m-%Y')}\")\n",
        "print(f\"Datas formatadas para a API: Início={data_inicio_str}, Fim={data_fim_str}\")"
      ],
      "metadata": {
        "colab": {
          "base_uri": "https://localhost:8080/"
        },
        "id": "AKGL-Esrttvn",
        "outputId": "a4b9f733-34f2-4733-bea2-8897602c415f"
      },
      "execution_count": 66,
      "outputs": [
        {
          "output_type": "stream",
          "name": "stdout",
          "text": [
            "Período de busca definido: de 15-07-2025 a 22-07-2025\n",
            "Datas formatadas para a API: Início=07-15-2025, Fim=07-22-2025\n"
          ]
        }
      ]
    },
    {
      "cell_type": "markdown",
      "source": [
        "3. Montagem da URL da API e Requisição"
      ],
      "metadata": {
        "id": "CAoloDoQuyz_"
      }
    },
    {
      "cell_type": "code",
      "source": [
        "url = f\"https://olinda.bcb.gov.br/olinda/servico/PTAX/versao/v1/odata/\" \\\n",
        "      f\"CotacaoDolarPeriodo(dataInicial='{data_inicio_str}',dataFinalCotacao='{data_fim_str}')?\" \\\n",
        "      f\"$top=100&$format=json\"\n",
        "\n",
        "print(f\"URL da API montada: {url}\")\n",
        "\n",
        "# Fazer a requisição HTTP para a API\n",
        "response = requests.get(url)\n",
        "\n",
        "# Trata a resposta\n",
        "if response.status_code == 200:\n",
        "    dados = response.json()['value']\n",
        "    print(dados)\n",
        "    df = pd.DataFrame(dados)\n",
        "else:\n",
        "  print(f\"Erro ao acessar a API: {response.status_code}\")"
      ],
      "metadata": {
        "colab": {
          "base_uri": "https://localhost:8080/"
        },
        "id": "6M_4QtSmusUY",
        "outputId": "8b22807c-1c70-4c7d-99a2-7f38034fc615"
      },
      "execution_count": 67,
      "outputs": [
        {
          "output_type": "stream",
          "name": "stdout",
          "text": [
            "URL da API montada: https://olinda.bcb.gov.br/olinda/servico/PTAX/versao/v1/odata/CotacaoDolarPeriodo(dataInicial='07-15-2025',dataFinalCotacao='07-22-2025')?$top=100&$format=json\n",
            "[{'cotacaoCompra': 5.5569, 'cotacaoVenda': 5.5576, 'dataHoraCotacao': '2025-07-15 13:04:30.654'}, {'cotacaoCompra': 5.5716, 'cotacaoVenda': 5.5722, 'dataHoraCotacao': '2025-07-16 13:08:40.079'}, {'cotacaoCompra': 5.5731, 'cotacaoVenda': 5.5737, 'dataHoraCotacao': '2025-07-17 13:02:31.315'}, {'cotacaoCompra': 5.546, 'cotacaoVenda': 5.5466, 'dataHoraCotacao': '2025-07-18 13:11:35.417'}, {'cotacaoCompra': 5.5619, 'cotacaoVenda': 5.5625, 'dataHoraCotacao': '2025-07-21 13:03:57.875'}]\n"
          ]
        }
      ]
    },
    {
      "cell_type": "markdown",
      "source": [
        "4. Tratamento dos dados da requisição"
      ],
      "metadata": {
        "id": "VtxR-sA3zSuX"
      }
    },
    {
      "cell_type": "code",
      "source": [
        "# Limpa e reorganiza colunas principais\n",
        "df = df[['dataHoraCotacao', 'cotacaoCompra', 'cotacaoVenda']]\n",
        "df['dataHoraCotacao'] = pd.to_datetime(df['dataHoraCotacao']).dt.date\n",
        "df = df.rename(columns={\n",
        "    'dataHoraCotacao': 'Data',\n",
        "    'cotacaoCompra': 'Cotação Compra',\n",
        "    'cotacaoVenda': 'Cotação Venda'\n",
        "})\n",
        "df"
      ],
      "metadata": {
        "colab": {
          "base_uri": "https://localhost:8080/",
          "height": 206
        },
        "id": "_tJzyGrbvHCT",
        "outputId": "0e663a05-5733-4e4c-94c1-27f1634e2d9c"
      },
      "execution_count": 68,
      "outputs": [
        {
          "output_type": "execute_result",
          "data": {
            "text/plain": [
              "         Data  Cotação Compra  Cotação Venda\n",
              "0  2025-07-15          5.5569         5.5576\n",
              "1  2025-07-16          5.5716         5.5722\n",
              "2  2025-07-17          5.5731         5.5737\n",
              "3  2025-07-18          5.5460         5.5466\n",
              "4  2025-07-21          5.5619         5.5625"
            ],
            "text/html": [
              "\n",
              "  <div id=\"df-d28f5a3e-4904-4b0a-a072-4794cd4441ec\" class=\"colab-df-container\">\n",
              "    <div>\n",
              "<style scoped>\n",
              "    .dataframe tbody tr th:only-of-type {\n",
              "        vertical-align: middle;\n",
              "    }\n",
              "\n",
              "    .dataframe tbody tr th {\n",
              "        vertical-align: top;\n",
              "    }\n",
              "\n",
              "    .dataframe thead th {\n",
              "        text-align: right;\n",
              "    }\n",
              "</style>\n",
              "<table border=\"1\" class=\"dataframe\">\n",
              "  <thead>\n",
              "    <tr style=\"text-align: right;\">\n",
              "      <th></th>\n",
              "      <th>Data</th>\n",
              "      <th>Cotação Compra</th>\n",
              "      <th>Cotação Venda</th>\n",
              "    </tr>\n",
              "  </thead>\n",
              "  <tbody>\n",
              "    <tr>\n",
              "      <th>0</th>\n",
              "      <td>2025-07-15</td>\n",
              "      <td>5.5569</td>\n",
              "      <td>5.5576</td>\n",
              "    </tr>\n",
              "    <tr>\n",
              "      <th>1</th>\n",
              "      <td>2025-07-16</td>\n",
              "      <td>5.5716</td>\n",
              "      <td>5.5722</td>\n",
              "    </tr>\n",
              "    <tr>\n",
              "      <th>2</th>\n",
              "      <td>2025-07-17</td>\n",
              "      <td>5.5731</td>\n",
              "      <td>5.5737</td>\n",
              "    </tr>\n",
              "    <tr>\n",
              "      <th>3</th>\n",
              "      <td>2025-07-18</td>\n",
              "      <td>5.5460</td>\n",
              "      <td>5.5466</td>\n",
              "    </tr>\n",
              "    <tr>\n",
              "      <th>4</th>\n",
              "      <td>2025-07-21</td>\n",
              "      <td>5.5619</td>\n",
              "      <td>5.5625</td>\n",
              "    </tr>\n",
              "  </tbody>\n",
              "</table>\n",
              "</div>\n",
              "    <div class=\"colab-df-buttons\">\n",
              "\n",
              "  <div class=\"colab-df-container\">\n",
              "    <button class=\"colab-df-convert\" onclick=\"convertToInteractive('df-d28f5a3e-4904-4b0a-a072-4794cd4441ec')\"\n",
              "            title=\"Convert this dataframe to an interactive table.\"\n",
              "            style=\"display:none;\">\n",
              "\n",
              "  <svg xmlns=\"http://www.w3.org/2000/svg\" height=\"24px\" viewBox=\"0 -960 960 960\">\n",
              "    <path d=\"M120-120v-720h720v720H120Zm60-500h600v-160H180v160Zm220 220h160v-160H400v160Zm0 220h160v-160H400v160ZM180-400h160v-160H180v160Zm440 0h160v-160H620v160ZM180-180h160v-160H180v160Zm440 0h160v-160H620v160Z\"/>\n",
              "  </svg>\n",
              "    </button>\n",
              "\n",
              "  <style>\n",
              "    .colab-df-container {\n",
              "      display:flex;\n",
              "      gap: 12px;\n",
              "    }\n",
              "\n",
              "    .colab-df-convert {\n",
              "      background-color: #E8F0FE;\n",
              "      border: none;\n",
              "      border-radius: 50%;\n",
              "      cursor: pointer;\n",
              "      display: none;\n",
              "      fill: #1967D2;\n",
              "      height: 32px;\n",
              "      padding: 0 0 0 0;\n",
              "      width: 32px;\n",
              "    }\n",
              "\n",
              "    .colab-df-convert:hover {\n",
              "      background-color: #E2EBFA;\n",
              "      box-shadow: 0px 1px 2px rgba(60, 64, 67, 0.3), 0px 1px 3px 1px rgba(60, 64, 67, 0.15);\n",
              "      fill: #174EA6;\n",
              "    }\n",
              "\n",
              "    .colab-df-buttons div {\n",
              "      margin-bottom: 4px;\n",
              "    }\n",
              "\n",
              "    [theme=dark] .colab-df-convert {\n",
              "      background-color: #3B4455;\n",
              "      fill: #D2E3FC;\n",
              "    }\n",
              "\n",
              "    [theme=dark] .colab-df-convert:hover {\n",
              "      background-color: #434B5C;\n",
              "      box-shadow: 0px 1px 3px 1px rgba(0, 0, 0, 0.15);\n",
              "      filter: drop-shadow(0px 1px 2px rgba(0, 0, 0, 0.3));\n",
              "      fill: #FFFFFF;\n",
              "    }\n",
              "  </style>\n",
              "\n",
              "    <script>\n",
              "      const buttonEl =\n",
              "        document.querySelector('#df-d28f5a3e-4904-4b0a-a072-4794cd4441ec button.colab-df-convert');\n",
              "      buttonEl.style.display =\n",
              "        google.colab.kernel.accessAllowed ? 'block' : 'none';\n",
              "\n",
              "      async function convertToInteractive(key) {\n",
              "        const element = document.querySelector('#df-d28f5a3e-4904-4b0a-a072-4794cd4441ec');\n",
              "        const dataTable =\n",
              "          await google.colab.kernel.invokeFunction('convertToInteractive',\n",
              "                                                    [key], {});\n",
              "        if (!dataTable) return;\n",
              "\n",
              "        const docLinkHtml = 'Like what you see? Visit the ' +\n",
              "          '<a target=\"_blank\" href=https://colab.research.google.com/notebooks/data_table.ipynb>data table notebook</a>'\n",
              "          + ' to learn more about interactive tables.';\n",
              "        element.innerHTML = '';\n",
              "        dataTable['output_type'] = 'display_data';\n",
              "        await google.colab.output.renderOutput(dataTable, element);\n",
              "        const docLink = document.createElement('div');\n",
              "        docLink.innerHTML = docLinkHtml;\n",
              "        element.appendChild(docLink);\n",
              "      }\n",
              "    </script>\n",
              "  </div>\n",
              "\n",
              "\n",
              "    <div id=\"df-45de7a92-e629-4e26-9ae5-93ad3a924e07\">\n",
              "      <button class=\"colab-df-quickchart\" onclick=\"quickchart('df-45de7a92-e629-4e26-9ae5-93ad3a924e07')\"\n",
              "                title=\"Suggest charts\"\n",
              "                style=\"display:none;\">\n",
              "\n",
              "<svg xmlns=\"http://www.w3.org/2000/svg\" height=\"24px\"viewBox=\"0 0 24 24\"\n",
              "     width=\"24px\">\n",
              "    <g>\n",
              "        <path d=\"M19 3H5c-1.1 0-2 .9-2 2v14c0 1.1.9 2 2 2h14c1.1 0 2-.9 2-2V5c0-1.1-.9-2-2-2zM9 17H7v-7h2v7zm4 0h-2V7h2v10zm4 0h-2v-4h2v4z\"/>\n",
              "    </g>\n",
              "</svg>\n",
              "      </button>\n",
              "\n",
              "<style>\n",
              "  .colab-df-quickchart {\n",
              "      --bg-color: #E8F0FE;\n",
              "      --fill-color: #1967D2;\n",
              "      --hover-bg-color: #E2EBFA;\n",
              "      --hover-fill-color: #174EA6;\n",
              "      --disabled-fill-color: #AAA;\n",
              "      --disabled-bg-color: #DDD;\n",
              "  }\n",
              "\n",
              "  [theme=dark] .colab-df-quickchart {\n",
              "      --bg-color: #3B4455;\n",
              "      --fill-color: #D2E3FC;\n",
              "      --hover-bg-color: #434B5C;\n",
              "      --hover-fill-color: #FFFFFF;\n",
              "      --disabled-bg-color: #3B4455;\n",
              "      --disabled-fill-color: #666;\n",
              "  }\n",
              "\n",
              "  .colab-df-quickchart {\n",
              "    background-color: var(--bg-color);\n",
              "    border: none;\n",
              "    border-radius: 50%;\n",
              "    cursor: pointer;\n",
              "    display: none;\n",
              "    fill: var(--fill-color);\n",
              "    height: 32px;\n",
              "    padding: 0;\n",
              "    width: 32px;\n",
              "  }\n",
              "\n",
              "  .colab-df-quickchart:hover {\n",
              "    background-color: var(--hover-bg-color);\n",
              "    box-shadow: 0 1px 2px rgba(60, 64, 67, 0.3), 0 1px 3px 1px rgba(60, 64, 67, 0.15);\n",
              "    fill: var(--button-hover-fill-color);\n",
              "  }\n",
              "\n",
              "  .colab-df-quickchart-complete:disabled,\n",
              "  .colab-df-quickchart-complete:disabled:hover {\n",
              "    background-color: var(--disabled-bg-color);\n",
              "    fill: var(--disabled-fill-color);\n",
              "    box-shadow: none;\n",
              "  }\n",
              "\n",
              "  .colab-df-spinner {\n",
              "    border: 2px solid var(--fill-color);\n",
              "    border-color: transparent;\n",
              "    border-bottom-color: var(--fill-color);\n",
              "    animation:\n",
              "      spin 1s steps(1) infinite;\n",
              "  }\n",
              "\n",
              "  @keyframes spin {\n",
              "    0% {\n",
              "      border-color: transparent;\n",
              "      border-bottom-color: var(--fill-color);\n",
              "      border-left-color: var(--fill-color);\n",
              "    }\n",
              "    20% {\n",
              "      border-color: transparent;\n",
              "      border-left-color: var(--fill-color);\n",
              "      border-top-color: var(--fill-color);\n",
              "    }\n",
              "    30% {\n",
              "      border-color: transparent;\n",
              "      border-left-color: var(--fill-color);\n",
              "      border-top-color: var(--fill-color);\n",
              "      border-right-color: var(--fill-color);\n",
              "    }\n",
              "    40% {\n",
              "      border-color: transparent;\n",
              "      border-right-color: var(--fill-color);\n",
              "      border-top-color: var(--fill-color);\n",
              "    }\n",
              "    60% {\n",
              "      border-color: transparent;\n",
              "      border-right-color: var(--fill-color);\n",
              "    }\n",
              "    80% {\n",
              "      border-color: transparent;\n",
              "      border-right-color: var(--fill-color);\n",
              "      border-bottom-color: var(--fill-color);\n",
              "    }\n",
              "    90% {\n",
              "      border-color: transparent;\n",
              "      border-bottom-color: var(--fill-color);\n",
              "    }\n",
              "  }\n",
              "</style>\n",
              "\n",
              "      <script>\n",
              "        async function quickchart(key) {\n",
              "          const quickchartButtonEl =\n",
              "            document.querySelector('#' + key + ' button');\n",
              "          quickchartButtonEl.disabled = true;  // To prevent multiple clicks.\n",
              "          quickchartButtonEl.classList.add('colab-df-spinner');\n",
              "          try {\n",
              "            const charts = await google.colab.kernel.invokeFunction(\n",
              "                'suggestCharts', [key], {});\n",
              "          } catch (error) {\n",
              "            console.error('Error during call to suggestCharts:', error);\n",
              "          }\n",
              "          quickchartButtonEl.classList.remove('colab-df-spinner');\n",
              "          quickchartButtonEl.classList.add('colab-df-quickchart-complete');\n",
              "        }\n",
              "        (() => {\n",
              "          let quickchartButtonEl =\n",
              "            document.querySelector('#df-45de7a92-e629-4e26-9ae5-93ad3a924e07 button');\n",
              "          quickchartButtonEl.style.display =\n",
              "            google.colab.kernel.accessAllowed ? 'block' : 'none';\n",
              "        })();\n",
              "      </script>\n",
              "    </div>\n",
              "\n",
              "  <div id=\"id_bca34316-5fcf-4dec-913f-6104472bc66b\">\n",
              "    <style>\n",
              "      .colab-df-generate {\n",
              "        background-color: #E8F0FE;\n",
              "        border: none;\n",
              "        border-radius: 50%;\n",
              "        cursor: pointer;\n",
              "        display: none;\n",
              "        fill: #1967D2;\n",
              "        height: 32px;\n",
              "        padding: 0 0 0 0;\n",
              "        width: 32px;\n",
              "      }\n",
              "\n",
              "      .colab-df-generate:hover {\n",
              "        background-color: #E2EBFA;\n",
              "        box-shadow: 0px 1px 2px rgba(60, 64, 67, 0.3), 0px 1px 3px 1px rgba(60, 64, 67, 0.15);\n",
              "        fill: #174EA6;\n",
              "      }\n",
              "\n",
              "      [theme=dark] .colab-df-generate {\n",
              "        background-color: #3B4455;\n",
              "        fill: #D2E3FC;\n",
              "      }\n",
              "\n",
              "      [theme=dark] .colab-df-generate:hover {\n",
              "        background-color: #434B5C;\n",
              "        box-shadow: 0px 1px 3px 1px rgba(0, 0, 0, 0.15);\n",
              "        filter: drop-shadow(0px 1px 2px rgba(0, 0, 0, 0.3));\n",
              "        fill: #FFFFFF;\n",
              "      }\n",
              "    </style>\n",
              "    <button class=\"colab-df-generate\" onclick=\"generateWithVariable('df')\"\n",
              "            title=\"Generate code using this dataframe.\"\n",
              "            style=\"display:none;\">\n",
              "\n",
              "  <svg xmlns=\"http://www.w3.org/2000/svg\" height=\"24px\"viewBox=\"0 0 24 24\"\n",
              "       width=\"24px\">\n",
              "    <path d=\"M7,19H8.4L18.45,9,17,7.55,7,17.6ZM5,21V16.75L18.45,3.32a2,2,0,0,1,2.83,0l1.4,1.43a1.91,1.91,0,0,1,.58,1.4,1.91,1.91,0,0,1-.58,1.4L9.25,21ZM18.45,9,17,7.55Zm-12,3A5.31,5.31,0,0,0,4.9,8.1,5.31,5.31,0,0,0,1,6.5,5.31,5.31,0,0,0,4.9,4.9,5.31,5.31,0,0,0,6.5,1,5.31,5.31,0,0,0,8.1,4.9,5.31,5.31,0,0,0,12,6.5,5.46,5.46,0,0,0,6.5,12Z\"/>\n",
              "  </svg>\n",
              "    </button>\n",
              "    <script>\n",
              "      (() => {\n",
              "      const buttonEl =\n",
              "        document.querySelector('#id_bca34316-5fcf-4dec-913f-6104472bc66b button.colab-df-generate');\n",
              "      buttonEl.style.display =\n",
              "        google.colab.kernel.accessAllowed ? 'block' : 'none';\n",
              "\n",
              "      buttonEl.onclick = () => {\n",
              "        google.colab.notebook.generateWithVariable('df');\n",
              "      }\n",
              "      })();\n",
              "    </script>\n",
              "  </div>\n",
              "\n",
              "    </div>\n",
              "  </div>\n"
            ],
            "application/vnd.google.colaboratory.intrinsic+json": {
              "type": "dataframe",
              "variable_name": "df",
              "summary": "{\n  \"name\": \"df\",\n  \"rows\": 5,\n  \"fields\": [\n    {\n      \"column\": \"Data\",\n      \"properties\": {\n        \"dtype\": \"date\",\n        \"min\": \"2025-07-15\",\n        \"max\": \"2025-07-21\",\n        \"num_unique_values\": 5,\n        \"samples\": [\n          \"2025-07-16\",\n          \"2025-07-21\",\n          \"2025-07-17\"\n        ],\n        \"semantic_type\": \"\",\n        \"description\": \"\"\n      }\n    },\n    {\n      \"column\": \"Cota\\u00e7\\u00e3o Compra\",\n      \"properties\": {\n        \"dtype\": \"number\",\n        \"std\": 0.011150560524027483,\n        \"min\": 5.546,\n        \"max\": 5.5731,\n        \"num_unique_values\": 5,\n        \"samples\": [\n          5.5716,\n          5.5619,\n          5.5731\n        ],\n        \"semantic_type\": \"\",\n        \"description\": \"\"\n      }\n    },\n    {\n      \"column\": \"Cota\\u00e7\\u00e3o Venda\",\n      \"properties\": {\n        \"dtype\": \"number\",\n        \"std\": 0.011139434456021472,\n        \"min\": 5.5466,\n        \"max\": 5.5737,\n        \"num_unique_values\": 5,\n        \"samples\": [\n          5.5722,\n          5.5625,\n          5.5737\n        ],\n        \"semantic_type\": \"\",\n        \"description\": \"\"\n      }\n    }\n  ]\n}"
            }
          },
          "metadata": {},
          "execution_count": 68
        }
      ]
    },
    {
      "cell_type": "markdown",
      "source": [
        "5. Salva como csv"
      ],
      "metadata": {
        "id": "546rYQ27zX-n"
      }
    },
    {
      "cell_type": "code",
      "source": [
        "# Salva como CSV\n",
        "df.to_csv('cotacao_dolar_ultimos_7_dias.csv', index=False)\n",
        "print(\"Arquivo 'cotacao_dolar_ultimos_7_dias.csv' salvo com sucesso!\")"
      ],
      "metadata": {
        "colab": {
          "base_uri": "https://localhost:8080/"
        },
        "id": "5fRgEkjTyS1d",
        "outputId": "c6d87b04-74f2-4fb3-81d0-e977b2759709"
      },
      "execution_count": 70,
      "outputs": [
        {
          "output_type": "stream",
          "name": "stdout",
          "text": [
            "Arquivo 'cotacao_dolar_ultimos_7_dias.csv' salvo com sucesso!\n"
          ]
        }
      ]
    }
  ]
}